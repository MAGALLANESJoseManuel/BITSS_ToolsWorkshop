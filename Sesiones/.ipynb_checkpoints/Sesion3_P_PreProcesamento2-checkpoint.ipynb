{
 "cells": [
  {
   "cell_type": "markdown",
   "metadata": {},
   "source": [
    "<center> <h1>Herramientas Computacionales <br></br>para la Investigación Interdisciplinaria Reproducible</h1> </center>\n",
    "\n",
    "<br></br>\n",
    "\n",
    "* Profesor:  <a href=\"http://www.pucp.edu.pe/profesor/jose-manuel-magallanes/\" target=\"_blank\">Dr. José Manuel Magallanes, PhD</a> ([jmagallanes@pucp.edu.pe](mailto:jmagallanes@pucp.edu.pe))<br>Profesor del **Departamento de Ciencias Sociales, Pontificia Universidad Católica del Peru**.<br>\n",
    "Senior Data Scientist del **eScience Institute** and Visiting Professor at **Evans School of Public Policy and Governance, University of Washington**.<br>\n",
    "Fellow Catalyst, **Berkeley Initiative for Transparency in Social Sciences, UC Berkeley**.\n",
    "\n",
    "## Sesión 3: Pre Procesamiento de Datos\n",
    "\n",
    "\n",
    "## Parte B: Formateando Valores en Python"
   ]
  },
  {
   "cell_type": "markdown",
   "metadata": {},
   "source": [
    "<a id='beginning'></a>\n",
    "\n",
    "Una vez que los datos han sido limpiados, es momento de ver si tienen el formato para ser tratados estadísticamente, es decir, que representan el correcto tipo de [escala](#scale) y que representen una adecuada [monotonía](#monotony)."
   ]
  },
  {
   "cell_type": "markdown",
   "metadata": {},
   "source": [
    "Traigamos unos datos conocidos, pero acelerando la limpieza:"
   ]
  },
  {
   "cell_type": "code",
   "execution_count": 1,
   "metadata": {},
   "outputs": [
    {
     "data": {
      "text/html": [
       "<div>\n",
       "<style scoped>\n",
       "    .dataframe tbody tr th:only-of-type {\n",
       "        vertical-align: middle;\n",
       "    }\n",
       "\n",
       "    .dataframe tbody tr th {\n",
       "        vertical-align: top;\n",
       "    }\n",
       "\n",
       "    .dataframe thead th {\n",
       "        text-align: right;\n",
       "    }\n",
       "</style>\n",
       "<table border=\"1\" class=\"dataframe\">\n",
       "  <thead>\n",
       "    <tr style=\"text-align: right;\">\n",
       "      <th></th>\n",
       "      <th>Country</th>\n",
       "      <th>FreedomintheWorld</th>\n",
       "      <th>IndexofEconomicFreedom</th>\n",
       "      <th>PressFreedomIndex</th>\n",
       "      <th>DemocracyIndex</th>\n",
       "    </tr>\n",
       "  </thead>\n",
       "  <tbody>\n",
       "    <tr>\n",
       "      <th>0</th>\n",
       "      <td>Abkhazia</td>\n",
       "      <td>partly free</td>\n",
       "      <td>NaN</td>\n",
       "      <td>NaN</td>\n",
       "      <td>NaN</td>\n",
       "    </tr>\n",
       "    <tr>\n",
       "      <th>1</th>\n",
       "      <td>Afghanistan</td>\n",
       "      <td>not free</td>\n",
       "      <td>mostly unfree</td>\n",
       "      <td>difficult situation</td>\n",
       "      <td>authoritarian regime</td>\n",
       "    </tr>\n",
       "    <tr>\n",
       "      <th>2</th>\n",
       "      <td>Albania</td>\n",
       "      <td>partly free</td>\n",
       "      <td>moderately free</td>\n",
       "      <td>noticeable problems</td>\n",
       "      <td>hybrid regime</td>\n",
       "    </tr>\n",
       "    <tr>\n",
       "      <th>3</th>\n",
       "      <td>Algeria</td>\n",
       "      <td>not free</td>\n",
       "      <td>repressed</td>\n",
       "      <td>difficult situation</td>\n",
       "      <td>authoritarian regime</td>\n",
       "    </tr>\n",
       "    <tr>\n",
       "      <th>4</th>\n",
       "      <td>Andorra</td>\n",
       "      <td>free</td>\n",
       "      <td>NaN</td>\n",
       "      <td>satisfactory situation</td>\n",
       "      <td>NaN</td>\n",
       "    </tr>\n",
       "  </tbody>\n",
       "</table>\n",
       "</div>"
      ],
      "text/plain": [
       "       Country FreedomintheWorld IndexofEconomicFreedom  \\\n",
       "0     Abkhazia       partly free                    NaN   \n",
       "1  Afghanistan          not free          mostly unfree   \n",
       "2      Albania       partly free        moderately free   \n",
       "3      Algeria          not free              repressed   \n",
       "4      Andorra              free                    NaN   \n",
       "\n",
       "        PressFreedomIndex        DemocracyIndex  \n",
       "0                     NaN                   NaN  \n",
       "1     difficult situation  authoritarian regime  \n",
       "2     noticeable problems         hybrid regime  \n",
       "3     difficult situation  authoritarian regime  \n",
       "4  satisfactory situation                   NaN  "
      ]
     },
     "execution_count": 1,
     "metadata": {},
     "output_type": "execute_result"
    }
   ],
   "source": [
    "wikiLink=\"https://en.wikipedia.org/wiki/List_of_freedom_indices\" \n",
    "\n",
    "#traer tabla\n",
    "import pandas as pd\n",
    "DF=pd.read_html(wikiLink,header=0,flavor='bs4',attrs={'class': 'wikitable sortable',})[0]\n",
    "\n",
    "#limpiando celdas\n",
    "import re  \n",
    "pattern='\\\\s+|\\\\d+|\\\\[|\\\\]'\n",
    "nothing=''\n",
    "DF.columns=[re.sub(pattern,nothing,element) for element in DF.columns]\n",
    "DF.head()"
   ]
  },
  {
   "cell_type": "markdown",
   "metadata": {},
   "source": [
    "____\n",
    "<a id='scale'></a>\n",
    "\n",
    "### Las escalas de medición\n",
    "\n",
    "Para saber si están en la escala correcta, debemos usar _dtypes_:"
   ]
  },
  {
   "cell_type": "code",
   "execution_count": 2,
   "metadata": {},
   "outputs": [
    {
     "data": {
      "text/plain": [
       "Country                   object\n",
       "FreedomintheWorld         object\n",
       "IndexofEconomicFreedom    object\n",
       "PressFreedomIndex         object\n",
       "DemocracyIndex            object\n",
       "dtype: object"
      ]
     },
     "execution_count": 2,
     "metadata": {},
     "output_type": "execute_result"
    }
   ],
   "source": [
    "DF.dtypes"
   ]
  },
  {
   "cell_type": "markdown",
   "metadata": {},
   "source": [
    "Los cuatro indices son categorías, no texto (_object_). Hagamos la conversión:"
   ]
  },
  {
   "cell_type": "code",
   "execution_count": 3,
   "metadata": {},
   "outputs": [],
   "source": [
    "headers=DF.columns\n",
    "DF[headers[1:]]=DF[headers[1:]].astype('category')"
   ]
  },
  {
   "cell_type": "code",
   "execution_count": 4,
   "metadata": {},
   "outputs": [
    {
     "data": {
      "text/plain": [
       "Country                     object\n",
       "FreedomintheWorld         category\n",
       "IndexofEconomicFreedom    category\n",
       "PressFreedomIndex         category\n",
       "DemocracyIndex            category\n",
       "dtype: object"
      ]
     },
     "execution_count": 4,
     "metadata": {},
     "output_type": "execute_result"
    }
   ],
   "source": [
    "# sale:\n",
    "DF.dtypes"
   ]
  },
  {
   "cell_type": "markdown",
   "metadata": {},
   "source": [
    "Este cambio es imperceptible a la vista:"
   ]
  },
  {
   "cell_type": "code",
   "execution_count": 5,
   "metadata": {},
   "outputs": [
    {
     "data": {
      "text/html": [
       "<div>\n",
       "<style scoped>\n",
       "    .dataframe tbody tr th:only-of-type {\n",
       "        vertical-align: middle;\n",
       "    }\n",
       "\n",
       "    .dataframe tbody tr th {\n",
       "        vertical-align: top;\n",
       "    }\n",
       "\n",
       "    .dataframe thead th {\n",
       "        text-align: right;\n",
       "    }\n",
       "</style>\n",
       "<table border=\"1\" class=\"dataframe\">\n",
       "  <thead>\n",
       "    <tr style=\"text-align: right;\">\n",
       "      <th></th>\n",
       "      <th>Country</th>\n",
       "      <th>FreedomintheWorld</th>\n",
       "      <th>IndexofEconomicFreedom</th>\n",
       "      <th>PressFreedomIndex</th>\n",
       "      <th>DemocracyIndex</th>\n",
       "    </tr>\n",
       "  </thead>\n",
       "  <tbody>\n",
       "    <tr>\n",
       "      <th>0</th>\n",
       "      <td>Abkhazia</td>\n",
       "      <td>partly free</td>\n",
       "      <td>NaN</td>\n",
       "      <td>NaN</td>\n",
       "      <td>NaN</td>\n",
       "    </tr>\n",
       "    <tr>\n",
       "      <th>1</th>\n",
       "      <td>Afghanistan</td>\n",
       "      <td>not free</td>\n",
       "      <td>mostly unfree</td>\n",
       "      <td>difficult situation</td>\n",
       "      <td>authoritarian regime</td>\n",
       "    </tr>\n",
       "    <tr>\n",
       "      <th>2</th>\n",
       "      <td>Albania</td>\n",
       "      <td>partly free</td>\n",
       "      <td>moderately free</td>\n",
       "      <td>noticeable problems</td>\n",
       "      <td>hybrid regime</td>\n",
       "    </tr>\n",
       "    <tr>\n",
       "      <th>3</th>\n",
       "      <td>Algeria</td>\n",
       "      <td>not free</td>\n",
       "      <td>repressed</td>\n",
       "      <td>difficult situation</td>\n",
       "      <td>authoritarian regime</td>\n",
       "    </tr>\n",
       "    <tr>\n",
       "      <th>4</th>\n",
       "      <td>Andorra</td>\n",
       "      <td>free</td>\n",
       "      <td>NaN</td>\n",
       "      <td>satisfactory situation</td>\n",
       "      <td>NaN</td>\n",
       "    </tr>\n",
       "  </tbody>\n",
       "</table>\n",
       "</div>"
      ],
      "text/plain": [
       "       Country FreedomintheWorld IndexofEconomicFreedom  \\\n",
       "0     Abkhazia       partly free                    NaN   \n",
       "1  Afghanistan          not free          mostly unfree   \n",
       "2      Albania       partly free        moderately free   \n",
       "3      Algeria          not free              repressed   \n",
       "4      Andorra              free                    NaN   \n",
       "\n",
       "        PressFreedomIndex        DemocracyIndex  \n",
       "0                     NaN                   NaN  \n",
       "1     difficult situation  authoritarian regime  \n",
       "2     noticeable problems         hybrid regime  \n",
       "3     difficult situation  authoritarian regime  \n",
       "4  satisfactory situation                   NaN  "
      ]
     },
     "execution_count": 5,
     "metadata": {},
     "output_type": "execute_result"
    }
   ],
   "source": [
    "DF.head()"
   ]
  },
  {
   "cell_type": "markdown",
   "metadata": {},
   "source": [
    "Ahora si podemos saber sus valores:"
   ]
  },
  {
   "cell_type": "code",
   "execution_count": 6,
   "metadata": {},
   "outputs": [
    {
     "data": {
      "text/plain": [
       "Index(['free', 'not free', 'partly free'], dtype='object')"
      ]
     },
     "execution_count": 6,
     "metadata": {},
     "output_type": "execute_result"
    }
   ],
   "source": [
    "DF.FreedomintheWorld.cat.categories"
   ]
  },
  {
   "cell_type": "code",
   "execution_count": 7,
   "metadata": {},
   "outputs": [
    {
     "data": {
      "text/plain": [
       "Index(['free', 'moderately free', 'mostly free', 'mostly unfree', 'repressed'], dtype='object')"
      ]
     },
     "execution_count": 7,
     "metadata": {},
     "output_type": "execute_result"
    }
   ],
   "source": [
    "DF.IndexofEconomicFreedom.cat.categories"
   ]
  },
  {
   "cell_type": "code",
   "execution_count": 8,
   "metadata": {},
   "outputs": [
    {
     "data": {
      "text/plain": [
       "Index(['difficult situation', 'good situation', 'noticeable problems',\n",
       "       'satisfactory situation', 'very serious situation'],\n",
       "      dtype='object')"
      ]
     },
     "execution_count": 8,
     "metadata": {},
     "output_type": "execute_result"
    }
   ],
   "source": [
    "DF.PressFreedomIndex.cat.categories"
   ]
  },
  {
   "cell_type": "code",
   "execution_count": 9,
   "metadata": {},
   "outputs": [
    {
     "data": {
      "text/plain": [
       "Index(['authoritarian regime', 'flawed democracy', 'full democracy',\n",
       "       'hybrid regime'],\n",
       "      dtype='object')"
      ]
     },
     "execution_count": 9,
     "metadata": {},
     "output_type": "execute_result"
    }
   ],
   "source": [
    "DF.DemocracyIndex.cat.categories"
   ]
  },
  {
   "cell_type": "markdown",
   "metadata": {},
   "source": [
    "Vemos que tenemos hasta 5 niveles en 2 variables, y 3 y 4 niveles en otras. De ahi que lo prudente es encontrar la distribución común de valores que refleja la ordinalidad, y los máximos y mínimos. \n",
    "\n",
    "Veamos como volverla ordinal. Primero los valores:"
   ]
  },
  {
   "cell_type": "code",
   "execution_count": 10,
   "metadata": {},
   "outputs": [],
   "source": [
    "oldFree=list(DF.FreedomintheWorld.cat.categories)\n",
    "newFree=['very good','very bad','middle']\n",
    "recodeFree={old:new for old,new in zip (oldFree,newFree)}\n",
    "\n",
    "oldEco=list(DF.IndexofEconomicFreedom.cat.categories)\n",
    "newEco=['very good','middle','good','bad','very bad']\n",
    "recodeEco={old:new for old,new in zip (oldEco,newEco)}\n",
    "\n",
    "\n",
    "oldPress=list(DF.PressFreedomIndex.cat.categories)\n",
    "newPress=['bad','very good','middle','good','very bad']\n",
    "recodePress={old:new for old,new in zip (oldPress,newPress)}\n",
    "\n",
    "oldDemo=list(DF.DemocracyIndex.cat.categories)\n",
    "newDemo=['very bad','good','very good','bad']\n",
    "recodeDemo={old:new for old,new in zip (oldDemo,newDemo)}"
   ]
  },
  {
   "cell_type": "markdown",
   "metadata": {},
   "source": [
    "Ahora usamos los dicts creado para recodificar:"
   ]
  },
  {
   "cell_type": "code",
   "execution_count": 11,
   "metadata": {},
   "outputs": [
    {
     "data": {
      "text/html": [
       "<div>\n",
       "<style scoped>\n",
       "    .dataframe tbody tr th:only-of-type {\n",
       "        vertical-align: middle;\n",
       "    }\n",
       "\n",
       "    .dataframe tbody tr th {\n",
       "        vertical-align: top;\n",
       "    }\n",
       "\n",
       "    .dataframe thead th {\n",
       "        text-align: right;\n",
       "    }\n",
       "</style>\n",
       "<table border=\"1\" class=\"dataframe\">\n",
       "  <thead>\n",
       "    <tr style=\"text-align: right;\">\n",
       "      <th></th>\n",
       "      <th>Country</th>\n",
       "      <th>FreedomintheWorld</th>\n",
       "      <th>IndexofEconomicFreedom</th>\n",
       "      <th>PressFreedomIndex</th>\n",
       "      <th>DemocracyIndex</th>\n",
       "    </tr>\n",
       "  </thead>\n",
       "  <tbody>\n",
       "    <tr>\n",
       "      <th>0</th>\n",
       "      <td>Abkhazia</td>\n",
       "      <td>middle</td>\n",
       "      <td>NaN</td>\n",
       "      <td>NaN</td>\n",
       "      <td>NaN</td>\n",
       "    </tr>\n",
       "    <tr>\n",
       "      <th>1</th>\n",
       "      <td>Afghanistan</td>\n",
       "      <td>very bad</td>\n",
       "      <td>bad</td>\n",
       "      <td>bad</td>\n",
       "      <td>very bad</td>\n",
       "    </tr>\n",
       "    <tr>\n",
       "      <th>2</th>\n",
       "      <td>Albania</td>\n",
       "      <td>middle</td>\n",
       "      <td>middle</td>\n",
       "      <td>middle</td>\n",
       "      <td>bad</td>\n",
       "    </tr>\n",
       "    <tr>\n",
       "      <th>3</th>\n",
       "      <td>Algeria</td>\n",
       "      <td>very bad</td>\n",
       "      <td>very bad</td>\n",
       "      <td>bad</td>\n",
       "      <td>very bad</td>\n",
       "    </tr>\n",
       "    <tr>\n",
       "      <th>4</th>\n",
       "      <td>Andorra</td>\n",
       "      <td>very good</td>\n",
       "      <td>NaN</td>\n",
       "      <td>good</td>\n",
       "      <td>NaN</td>\n",
       "    </tr>\n",
       "    <tr>\n",
       "      <th>5</th>\n",
       "      <td>Angola</td>\n",
       "      <td>very bad</td>\n",
       "      <td>very bad</td>\n",
       "      <td>bad</td>\n",
       "      <td>very bad</td>\n",
       "    </tr>\n",
       "    <tr>\n",
       "      <th>6</th>\n",
       "      <td>Antigua and Barbuda</td>\n",
       "      <td>very good</td>\n",
       "      <td>NaN</td>\n",
       "      <td>good</td>\n",
       "      <td>NaN</td>\n",
       "    </tr>\n",
       "    <tr>\n",
       "      <th>7</th>\n",
       "      <td>Argentina</td>\n",
       "      <td>very good</td>\n",
       "      <td>bad</td>\n",
       "      <td>middle</td>\n",
       "      <td>good</td>\n",
       "    </tr>\n",
       "    <tr>\n",
       "      <th>8</th>\n",
       "      <td>Armenia</td>\n",
       "      <td>middle</td>\n",
       "      <td>middle</td>\n",
       "      <td>middle</td>\n",
       "      <td>bad</td>\n",
       "    </tr>\n",
       "    <tr>\n",
       "      <th>9</th>\n",
       "      <td>Australia</td>\n",
       "      <td>very good</td>\n",
       "      <td>very good</td>\n",
       "      <td>good</td>\n",
       "      <td>very good</td>\n",
       "    </tr>\n",
       "    <tr>\n",
       "      <th>10</th>\n",
       "      <td>Austria</td>\n",
       "      <td>very good</td>\n",
       "      <td>good</td>\n",
       "      <td>very good</td>\n",
       "      <td>very good</td>\n",
       "    </tr>\n",
       "    <tr>\n",
       "      <th>11</th>\n",
       "      <td>Azerbaijan</td>\n",
       "      <td>very bad</td>\n",
       "      <td>middle</td>\n",
       "      <td>very bad</td>\n",
       "      <td>very bad</td>\n",
       "    </tr>\n",
       "    <tr>\n",
       "      <th>12</th>\n",
       "      <td>Bahamas</td>\n",
       "      <td>very good</td>\n",
       "      <td>middle</td>\n",
       "      <td>good</td>\n",
       "      <td>NaN</td>\n",
       "    </tr>\n",
       "    <tr>\n",
       "      <th>13</th>\n",
       "      <td>Bahrain</td>\n",
       "      <td>very bad</td>\n",
       "      <td>middle</td>\n",
       "      <td>very bad</td>\n",
       "      <td>very bad</td>\n",
       "    </tr>\n",
       "    <tr>\n",
       "      <th>14</th>\n",
       "      <td>Bangladesh</td>\n",
       "      <td>middle</td>\n",
       "      <td>bad</td>\n",
       "      <td>bad</td>\n",
       "      <td>bad</td>\n",
       "    </tr>\n",
       "    <tr>\n",
       "      <th>15</th>\n",
       "      <td>Barbados</td>\n",
       "      <td>very good</td>\n",
       "      <td>bad</td>\n",
       "      <td>good</td>\n",
       "      <td>NaN</td>\n",
       "    </tr>\n",
       "    <tr>\n",
       "      <th>16</th>\n",
       "      <td>Belarus</td>\n",
       "      <td>very bad</td>\n",
       "      <td>bad</td>\n",
       "      <td>bad</td>\n",
       "      <td>very bad</td>\n",
       "    </tr>\n",
       "    <tr>\n",
       "      <th>17</th>\n",
       "      <td>Belgium</td>\n",
       "      <td>very good</td>\n",
       "      <td>middle</td>\n",
       "      <td>very good</td>\n",
       "      <td>good</td>\n",
       "    </tr>\n",
       "    <tr>\n",
       "      <th>18</th>\n",
       "      <td>Belize</td>\n",
       "      <td>very good</td>\n",
       "      <td>bad</td>\n",
       "      <td>good</td>\n",
       "      <td>NaN</td>\n",
       "    </tr>\n",
       "    <tr>\n",
       "      <th>19</th>\n",
       "      <td>Benin</td>\n",
       "      <td>very good</td>\n",
       "      <td>bad</td>\n",
       "      <td>middle</td>\n",
       "      <td>bad</td>\n",
       "    </tr>\n",
       "    <tr>\n",
       "      <th>20</th>\n",
       "      <td>Bhutan</td>\n",
       "      <td>middle</td>\n",
       "      <td>middle</td>\n",
       "      <td>middle</td>\n",
       "      <td>bad</td>\n",
       "    </tr>\n",
       "    <tr>\n",
       "      <th>21</th>\n",
       "      <td>Bolivia</td>\n",
       "      <td>middle</td>\n",
       "      <td>very bad</td>\n",
       "      <td>middle</td>\n",
       "      <td>bad</td>\n",
       "    </tr>\n",
       "    <tr>\n",
       "      <th>22</th>\n",
       "      <td>Bosnia and Herzegovina</td>\n",
       "      <td>middle</td>\n",
       "      <td>middle</td>\n",
       "      <td>middle</td>\n",
       "      <td>bad</td>\n",
       "    </tr>\n",
       "    <tr>\n",
       "      <th>23</th>\n",
       "      <td>Botswana</td>\n",
       "      <td>very good</td>\n",
       "      <td>middle</td>\n",
       "      <td>middle</td>\n",
       "      <td>good</td>\n",
       "    </tr>\n",
       "    <tr>\n",
       "      <th>24</th>\n",
       "      <td>Brazil</td>\n",
       "      <td>very good</td>\n",
       "      <td>bad</td>\n",
       "      <td>middle</td>\n",
       "      <td>good</td>\n",
       "    </tr>\n",
       "    <tr>\n",
       "      <th>25</th>\n",
       "      <td>Brunei</td>\n",
       "      <td>very bad</td>\n",
       "      <td>middle</td>\n",
       "      <td>bad</td>\n",
       "      <td>NaN</td>\n",
       "    </tr>\n",
       "    <tr>\n",
       "      <th>26</th>\n",
       "      <td>Bulgaria</td>\n",
       "      <td>very good</td>\n",
       "      <td>middle</td>\n",
       "      <td>bad</td>\n",
       "      <td>good</td>\n",
       "    </tr>\n",
       "    <tr>\n",
       "      <th>27</th>\n",
       "      <td>Burkina Faso</td>\n",
       "      <td>middle</td>\n",
       "      <td>middle</td>\n",
       "      <td>good</td>\n",
       "      <td>bad</td>\n",
       "    </tr>\n",
       "    <tr>\n",
       "      <th>28</th>\n",
       "      <td>Burma</td>\n",
       "      <td>middle</td>\n",
       "      <td>bad</td>\n",
       "      <td>bad</td>\n",
       "      <td>very bad</td>\n",
       "    </tr>\n",
       "    <tr>\n",
       "      <th>29</th>\n",
       "      <td>Burundi</td>\n",
       "      <td>very bad</td>\n",
       "      <td>bad</td>\n",
       "      <td>very bad</td>\n",
       "      <td>very bad</td>\n",
       "    </tr>\n",
       "    <tr>\n",
       "      <th>...</th>\n",
       "      <td>...</td>\n",
       "      <td>...</td>\n",
       "      <td>...</td>\n",
       "      <td>...</td>\n",
       "      <td>...</td>\n",
       "    </tr>\n",
       "    <tr>\n",
       "      <th>177</th>\n",
       "      <td>Sweden</td>\n",
       "      <td>very good</td>\n",
       "      <td>good</td>\n",
       "      <td>very good</td>\n",
       "      <td>very good</td>\n",
       "    </tr>\n",
       "    <tr>\n",
       "      <th>178</th>\n",
       "      <td>Switzerland</td>\n",
       "      <td>very good</td>\n",
       "      <td>very good</td>\n",
       "      <td>very good</td>\n",
       "      <td>very good</td>\n",
       "    </tr>\n",
       "    <tr>\n",
       "      <th>179</th>\n",
       "      <td>Syria</td>\n",
       "      <td>very bad</td>\n",
       "      <td>NaN</td>\n",
       "      <td>very bad</td>\n",
       "      <td>very bad</td>\n",
       "    </tr>\n",
       "    <tr>\n",
       "      <th>180</th>\n",
       "      <td>Taiwan</td>\n",
       "      <td>very good</td>\n",
       "      <td>good</td>\n",
       "      <td>good</td>\n",
       "      <td>good</td>\n",
       "    </tr>\n",
       "    <tr>\n",
       "      <th>181</th>\n",
       "      <td>Tajikistan</td>\n",
       "      <td>very bad</td>\n",
       "      <td>bad</td>\n",
       "      <td>bad</td>\n",
       "      <td>very bad</td>\n",
       "    </tr>\n",
       "    <tr>\n",
       "      <th>182</th>\n",
       "      <td>Tanzania</td>\n",
       "      <td>middle</td>\n",
       "      <td>bad</td>\n",
       "      <td>middle</td>\n",
       "      <td>bad</td>\n",
       "    </tr>\n",
       "    <tr>\n",
       "      <th>183</th>\n",
       "      <td>Thailand</td>\n",
       "      <td>very bad</td>\n",
       "      <td>middle</td>\n",
       "      <td>bad</td>\n",
       "      <td>bad</td>\n",
       "    </tr>\n",
       "    <tr>\n",
       "      <th>184</th>\n",
       "      <td>Togo</td>\n",
       "      <td>middle</td>\n",
       "      <td>very bad</td>\n",
       "      <td>middle</td>\n",
       "      <td>very bad</td>\n",
       "    </tr>\n",
       "    <tr>\n",
       "      <th>185</th>\n",
       "      <td>Tonga</td>\n",
       "      <td>very good</td>\n",
       "      <td>middle</td>\n",
       "      <td>middle</td>\n",
       "      <td>NaN</td>\n",
       "    </tr>\n",
       "    <tr>\n",
       "      <th>186</th>\n",
       "      <td>Transnistria</td>\n",
       "      <td>very bad</td>\n",
       "      <td>NaN</td>\n",
       "      <td>NaN</td>\n",
       "      <td>NaN</td>\n",
       "    </tr>\n",
       "    <tr>\n",
       "      <th>187</th>\n",
       "      <td>Trinidad and Tobago</td>\n",
       "      <td>very good</td>\n",
       "      <td>bad</td>\n",
       "      <td>good</td>\n",
       "      <td>good</td>\n",
       "    </tr>\n",
       "    <tr>\n",
       "      <th>188</th>\n",
       "      <td>Tunisia</td>\n",
       "      <td>very good</td>\n",
       "      <td>bad</td>\n",
       "      <td>middle</td>\n",
       "      <td>good</td>\n",
       "    </tr>\n",
       "    <tr>\n",
       "      <th>189</th>\n",
       "      <td>Turkey</td>\n",
       "      <td>very bad</td>\n",
       "      <td>middle</td>\n",
       "      <td>bad</td>\n",
       "      <td>bad</td>\n",
       "    </tr>\n",
       "    <tr>\n",
       "      <th>190</th>\n",
       "      <td>Turkmenistan</td>\n",
       "      <td>very bad</td>\n",
       "      <td>very bad</td>\n",
       "      <td>very bad</td>\n",
       "      <td>very bad</td>\n",
       "    </tr>\n",
       "    <tr>\n",
       "      <th>191</th>\n",
       "      <td>Tuvalu</td>\n",
       "      <td>very good</td>\n",
       "      <td>NaN</td>\n",
       "      <td>NaN</td>\n",
       "      <td>NaN</td>\n",
       "    </tr>\n",
       "    <tr>\n",
       "      <th>192</th>\n",
       "      <td>Uganda</td>\n",
       "      <td>middle</td>\n",
       "      <td>middle</td>\n",
       "      <td>bad</td>\n",
       "      <td>bad</td>\n",
       "    </tr>\n",
       "    <tr>\n",
       "      <th>193</th>\n",
       "      <td>Ukraine</td>\n",
       "      <td>middle</td>\n",
       "      <td>bad</td>\n",
       "      <td>middle</td>\n",
       "      <td>bad</td>\n",
       "    </tr>\n",
       "    <tr>\n",
       "      <th>194</th>\n",
       "      <td>United Arab Emirates</td>\n",
       "      <td>very bad</td>\n",
       "      <td>good</td>\n",
       "      <td>bad</td>\n",
       "      <td>very bad</td>\n",
       "    </tr>\n",
       "    <tr>\n",
       "      <th>195</th>\n",
       "      <td>United Kingdom</td>\n",
       "      <td>very good</td>\n",
       "      <td>good</td>\n",
       "      <td>good</td>\n",
       "      <td>very good</td>\n",
       "    </tr>\n",
       "    <tr>\n",
       "      <th>196</th>\n",
       "      <td>United States</td>\n",
       "      <td>very good</td>\n",
       "      <td>good</td>\n",
       "      <td>good</td>\n",
       "      <td>good</td>\n",
       "    </tr>\n",
       "    <tr>\n",
       "      <th>197</th>\n",
       "      <td>Uruguay</td>\n",
       "      <td>very good</td>\n",
       "      <td>middle</td>\n",
       "      <td>good</td>\n",
       "      <td>very good</td>\n",
       "    </tr>\n",
       "    <tr>\n",
       "      <th>198</th>\n",
       "      <td>Uzbekistan</td>\n",
       "      <td>very bad</td>\n",
       "      <td>bad</td>\n",
       "      <td>very bad</td>\n",
       "      <td>very bad</td>\n",
       "    </tr>\n",
       "    <tr>\n",
       "      <th>199</th>\n",
       "      <td>Vanuatu</td>\n",
       "      <td>very good</td>\n",
       "      <td>middle</td>\n",
       "      <td>NaN</td>\n",
       "      <td>NaN</td>\n",
       "    </tr>\n",
       "    <tr>\n",
       "      <th>200</th>\n",
       "      <td>Venezuela</td>\n",
       "      <td>very bad</td>\n",
       "      <td>very bad</td>\n",
       "      <td>bad</td>\n",
       "      <td>very bad</td>\n",
       "    </tr>\n",
       "    <tr>\n",
       "      <th>201</th>\n",
       "      <td>Vietnam</td>\n",
       "      <td>very bad</td>\n",
       "      <td>bad</td>\n",
       "      <td>very bad</td>\n",
       "      <td>very bad</td>\n",
       "    </tr>\n",
       "    <tr>\n",
       "      <th>202</th>\n",
       "      <td>West Bank</td>\n",
       "      <td>very bad</td>\n",
       "      <td>NaN</td>\n",
       "      <td>bad</td>\n",
       "      <td>NaN</td>\n",
       "    </tr>\n",
       "    <tr>\n",
       "      <th>203</th>\n",
       "      <td>Western Sahara</td>\n",
       "      <td>very bad</td>\n",
       "      <td>NaN</td>\n",
       "      <td>NaN</td>\n",
       "      <td>NaN</td>\n",
       "    </tr>\n",
       "    <tr>\n",
       "      <th>204</th>\n",
       "      <td>Yemen</td>\n",
       "      <td>very bad</td>\n",
       "      <td>NaN</td>\n",
       "      <td>very bad</td>\n",
       "      <td>very bad</td>\n",
       "    </tr>\n",
       "    <tr>\n",
       "      <th>205</th>\n",
       "      <td>Zambia</td>\n",
       "      <td>middle</td>\n",
       "      <td>bad</td>\n",
       "      <td>bad</td>\n",
       "      <td>bad</td>\n",
       "    </tr>\n",
       "    <tr>\n",
       "      <th>206</th>\n",
       "      <td>Zimbabwe</td>\n",
       "      <td>very bad</td>\n",
       "      <td>very bad</td>\n",
       "      <td>bad</td>\n",
       "      <td>very bad</td>\n",
       "    </tr>\n",
       "  </tbody>\n",
       "</table>\n",
       "<p>207 rows × 5 columns</p>\n",
       "</div>"
      ],
      "text/plain": [
       "                    Country FreedomintheWorld IndexofEconomicFreedom  \\\n",
       "0                  Abkhazia            middle                    NaN   \n",
       "1               Afghanistan          very bad                    bad   \n",
       "2                   Albania            middle                 middle   \n",
       "3                   Algeria          very bad               very bad   \n",
       "4                   Andorra         very good                    NaN   \n",
       "5                    Angola          very bad               very bad   \n",
       "6       Antigua and Barbuda         very good                    NaN   \n",
       "7                 Argentina         very good                    bad   \n",
       "8                   Armenia            middle                 middle   \n",
       "9                 Australia         very good              very good   \n",
       "10                  Austria         very good                   good   \n",
       "11               Azerbaijan          very bad                 middle   \n",
       "12                  Bahamas         very good                 middle   \n",
       "13                  Bahrain          very bad                 middle   \n",
       "14               Bangladesh            middle                    bad   \n",
       "15                 Barbados         very good                    bad   \n",
       "16                  Belarus          very bad                    bad   \n",
       "17                  Belgium         very good                 middle   \n",
       "18                   Belize         very good                    bad   \n",
       "19                    Benin         very good                    bad   \n",
       "20                   Bhutan            middle                 middle   \n",
       "21                  Bolivia            middle               very bad   \n",
       "22   Bosnia and Herzegovina            middle                 middle   \n",
       "23                 Botswana         very good                 middle   \n",
       "24                   Brazil         very good                    bad   \n",
       "25                   Brunei          very bad                 middle   \n",
       "26                 Bulgaria         very good                 middle   \n",
       "27             Burkina Faso            middle                 middle   \n",
       "28                    Burma            middle                    bad   \n",
       "29                  Burundi          very bad                    bad   \n",
       "..                      ...               ...                    ...   \n",
       "177                  Sweden         very good                   good   \n",
       "178             Switzerland         very good              very good   \n",
       "179                   Syria          very bad                    NaN   \n",
       "180                  Taiwan         very good                   good   \n",
       "181              Tajikistan          very bad                    bad   \n",
       "182                Tanzania            middle                    bad   \n",
       "183                Thailand          very bad                 middle   \n",
       "184                    Togo            middle               very bad   \n",
       "185                   Tonga         very good                 middle   \n",
       "186            Transnistria          very bad                    NaN   \n",
       "187     Trinidad and Tobago         very good                    bad   \n",
       "188                 Tunisia         very good                    bad   \n",
       "189                  Turkey          very bad                 middle   \n",
       "190            Turkmenistan          very bad               very bad   \n",
       "191                  Tuvalu         very good                    NaN   \n",
       "192                  Uganda            middle                 middle   \n",
       "193                 Ukraine            middle                    bad   \n",
       "194    United Arab Emirates          very bad                   good   \n",
       "195          United Kingdom         very good                   good   \n",
       "196           United States         very good                   good   \n",
       "197                 Uruguay         very good                 middle   \n",
       "198              Uzbekistan          very bad                    bad   \n",
       "199                 Vanuatu         very good                 middle   \n",
       "200               Venezuela          very bad               very bad   \n",
       "201                 Vietnam          very bad                    bad   \n",
       "202               West Bank          very bad                    NaN   \n",
       "203          Western Sahara          very bad                    NaN   \n",
       "204                   Yemen          very bad                    NaN   \n",
       "205                  Zambia            middle                    bad   \n",
       "206                Zimbabwe          very bad               very bad   \n",
       "\n",
       "    PressFreedomIndex DemocracyIndex  \n",
       "0                 NaN            NaN  \n",
       "1                 bad       very bad  \n",
       "2              middle            bad  \n",
       "3                 bad       very bad  \n",
       "4                good            NaN  \n",
       "5                 bad       very bad  \n",
       "6                good            NaN  \n",
       "7              middle           good  \n",
       "8              middle            bad  \n",
       "9                good      very good  \n",
       "10          very good      very good  \n",
       "11           very bad       very bad  \n",
       "12               good            NaN  \n",
       "13           very bad       very bad  \n",
       "14                bad            bad  \n",
       "15               good            NaN  \n",
       "16                bad       very bad  \n",
       "17          very good           good  \n",
       "18               good            NaN  \n",
       "19             middle            bad  \n",
       "20             middle            bad  \n",
       "21             middle            bad  \n",
       "22             middle            bad  \n",
       "23             middle           good  \n",
       "24             middle           good  \n",
       "25                bad            NaN  \n",
       "26                bad           good  \n",
       "27               good            bad  \n",
       "28                bad       very bad  \n",
       "29           very bad       very bad  \n",
       "..                ...            ...  \n",
       "177         very good      very good  \n",
       "178         very good      very good  \n",
       "179          very bad       very bad  \n",
       "180              good           good  \n",
       "181               bad       very bad  \n",
       "182            middle            bad  \n",
       "183               bad            bad  \n",
       "184            middle       very bad  \n",
       "185            middle            NaN  \n",
       "186               NaN            NaN  \n",
       "187              good           good  \n",
       "188            middle           good  \n",
       "189               bad            bad  \n",
       "190          very bad       very bad  \n",
       "191               NaN            NaN  \n",
       "192               bad            bad  \n",
       "193            middle            bad  \n",
       "194               bad       very bad  \n",
       "195              good      very good  \n",
       "196              good           good  \n",
       "197              good      very good  \n",
       "198          very bad       very bad  \n",
       "199               NaN            NaN  \n",
       "200               bad       very bad  \n",
       "201          very bad       very bad  \n",
       "202               bad            NaN  \n",
       "203               NaN            NaN  \n",
       "204          very bad       very bad  \n",
       "205               bad            bad  \n",
       "206               bad       very bad  \n",
       "\n",
       "[207 rows x 5 columns]"
      ]
     },
     "execution_count": 11,
     "metadata": {},
     "output_type": "execute_result"
    }
   ],
   "source": [
    "DF.FreedomintheWorld.cat.rename_categories(recodeFree,inplace=True)\n",
    "\n",
    "DF.IndexofEconomicFreedom.cat.rename_categories(recodeEco,inplace=True)\n",
    "\n",
    "DF.PressFreedomIndex.cat.rename_categories(recodePress,inplace=True)\n",
    "\n",
    "DF.DemocracyIndex.cat.rename_categories(recodeDemo,inplace=True)\n",
    "\n",
    "# veamos:\n",
    "DF"
   ]
  },
  {
   "cell_type": "markdown",
   "metadata": {},
   "source": [
    "Los datos aun no son ordinales, pero aqui serán:"
   ]
  },
  {
   "cell_type": "code",
   "execution_count": 12,
   "metadata": {},
   "outputs": [],
   "source": [
    "from pandas.api.types import CategoricalDtype\n",
    "\n",
    "\n",
    "ordinal = CategoricalDtype(categories=['very good','good','middle','bad','very bad'],ordered=True)\n",
    "\n",
    "to_Order=lambda x: x.astype(ordinal)\n",
    "DF[headers[1:]]=DF[headers[1:]].apply(to_Order)"
   ]
  },
  {
   "cell_type": "code",
   "execution_count": 13,
   "metadata": {},
   "outputs": [
    {
     "data": {
      "text/html": [
       "<div>\n",
       "<style scoped>\n",
       "    .dataframe tbody tr th:only-of-type {\n",
       "        vertical-align: middle;\n",
       "    }\n",
       "\n",
       "    .dataframe tbody tr th {\n",
       "        vertical-align: top;\n",
       "    }\n",
       "\n",
       "    .dataframe thead th {\n",
       "        text-align: right;\n",
       "    }\n",
       "</style>\n",
       "<table border=\"1\" class=\"dataframe\">\n",
       "  <thead>\n",
       "    <tr style=\"text-align: right;\">\n",
       "      <th></th>\n",
       "      <th>Country</th>\n",
       "      <th>FreedomintheWorld</th>\n",
       "      <th>IndexofEconomicFreedom</th>\n",
       "      <th>PressFreedomIndex</th>\n",
       "      <th>DemocracyIndex</th>\n",
       "    </tr>\n",
       "  </thead>\n",
       "  <tbody>\n",
       "    <tr>\n",
       "      <th>0</th>\n",
       "      <td>Abkhazia</td>\n",
       "      <td>middle</td>\n",
       "      <td>NaN</td>\n",
       "      <td>NaN</td>\n",
       "      <td>NaN</td>\n",
       "    </tr>\n",
       "    <tr>\n",
       "      <th>1</th>\n",
       "      <td>Afghanistan</td>\n",
       "      <td>very bad</td>\n",
       "      <td>bad</td>\n",
       "      <td>bad</td>\n",
       "      <td>very bad</td>\n",
       "    </tr>\n",
       "    <tr>\n",
       "      <th>2</th>\n",
       "      <td>Albania</td>\n",
       "      <td>middle</td>\n",
       "      <td>middle</td>\n",
       "      <td>middle</td>\n",
       "      <td>bad</td>\n",
       "    </tr>\n",
       "    <tr>\n",
       "      <th>3</th>\n",
       "      <td>Algeria</td>\n",
       "      <td>very bad</td>\n",
       "      <td>very bad</td>\n",
       "      <td>bad</td>\n",
       "      <td>very bad</td>\n",
       "    </tr>\n",
       "    <tr>\n",
       "      <th>4</th>\n",
       "      <td>Andorra</td>\n",
       "      <td>very good</td>\n",
       "      <td>NaN</td>\n",
       "      <td>good</td>\n",
       "      <td>NaN</td>\n",
       "    </tr>\n",
       "  </tbody>\n",
       "</table>\n",
       "</div>"
      ],
      "text/plain": [
       "       Country FreedomintheWorld IndexofEconomicFreedom PressFreedomIndex  \\\n",
       "0     Abkhazia            middle                    NaN               NaN   \n",
       "1  Afghanistan          very bad                    bad               bad   \n",
       "2      Albania            middle                 middle            middle   \n",
       "3      Algeria          very bad               very bad               bad   \n",
       "4      Andorra         very good                    NaN              good   \n",
       "\n",
       "  DemocracyIndex  \n",
       "0            NaN  \n",
       "1       very bad  \n",
       "2            bad  \n",
       "3       very bad  \n",
       "4            NaN  "
      ]
     },
     "execution_count": 13,
     "metadata": {},
     "output_type": "execute_result"
    }
   ],
   "source": [
    "# asi va:\n",
    "DF.head()"
   ]
  },
  {
   "cell_type": "markdown",
   "metadata": {},
   "source": [
    "Notemos que las modalidades no usadas están presentes:"
   ]
  },
  {
   "cell_type": "code",
   "execution_count": 14,
   "metadata": {},
   "outputs": [
    {
     "data": {
      "text/plain": [
       "very good    89\n",
       "good          0\n",
       "middle       62\n",
       "bad           0\n",
       "very bad     55\n",
       "NaN           1\n",
       "Name: FreedomintheWorld, dtype: int64"
      ]
     },
     "execution_count": 14,
     "metadata": {},
     "output_type": "execute_result"
    }
   ],
   "source": [
    "DF.FreedomintheWorld.value_counts(sort=False,dropna=False)"
   ]
  },
  {
   "cell_type": "markdown",
   "metadata": {},
   "source": [
    "Verificaciones adicionales:"
   ]
  },
  {
   "cell_type": "code",
   "execution_count": 15,
   "metadata": {},
   "outputs": [
    {
     "data": {
      "text/plain": [
       "Index(['very good', 'good', 'middle', 'bad', 'very bad'], dtype='object')"
      ]
     },
     "execution_count": 15,
     "metadata": {},
     "output_type": "execute_result"
    }
   ],
   "source": [
    "#las categorias:\n",
    "DF.PressFreedomIndex.cat.categories"
   ]
  },
  {
   "cell_type": "code",
   "execution_count": 16,
   "metadata": {},
   "outputs": [
    {
     "data": {
      "text/plain": [
       "True"
      ]
     },
     "execution_count": 16,
     "metadata": {},
     "output_type": "execute_result"
    }
   ],
   "source": [
    "#tipo de escala?\n",
    "DF.PressFreedomIndex.cat.ordered"
   ]
  },
  {
   "cell_type": "markdown",
   "metadata": {},
   "source": [
    "[Go to page beginning](#beginning)\n",
    "____\n",
    "<a id='monotony'></a>\n",
    "\n",
    "### Cambio de Monotonía:\n",
    "\n",
    "Verifiquemos si está bien la asignación que hemos hecho:"
   ]
  },
  {
   "cell_type": "code",
   "execution_count": 17,
   "metadata": {},
   "outputs": [
    {
     "data": {
      "text/plain": [
       "0       NaN\n",
       "1       bad\n",
       "2    middle\n",
       "3       bad\n",
       "4      good\n",
       "Name: PressFreedomIndex, dtype: category\n",
       "Categories (5, object): [very good < good < middle < bad < very bad]"
      ]
     },
     "execution_count": 17,
     "metadata": {},
     "output_type": "execute_result"
    }
   ],
   "source": [
    "DF.PressFreedomIndex.head()"
   ]
  },
  {
   "cell_type": "code",
   "execution_count": 18,
   "metadata": {},
   "outputs": [
    {
     "data": {
      "text/plain": [
       "'very bad'"
      ]
     },
     "execution_count": 18,
     "metadata": {},
     "output_type": "execute_result"
    }
   ],
   "source": [
    "DF.PressFreedomIndex.max()"
   ]
  },
  {
   "cell_type": "markdown",
   "metadata": {},
   "source": [
    "Este es un caso donde quiza la intensidad creciente debe ser hacia el sentido positivo del concepto. Claro que pudimos hacerlo al inicio, pero aprovechemos para saber cómo se hace.\n",
    "\n",
    "Para ello crearé una función:"
   ]
  },
  {
   "cell_type": "code",
   "execution_count": 23,
   "metadata": {},
   "outputs": [],
   "source": [
    "def changeMonotony(aColumn):\n",
    "    # Invierto las categorias:\n",
    "    newOrder= aColumn.cat.categories[::-1]  # [::-1]  reverses the list.\n",
    "    # aplico función\n",
    "    return aColumn.cat.reorder_categories(newOrder,ordered=True)"
   ]
  },
  {
   "cell_type": "markdown",
   "metadata": {},
   "source": [
    "Esta función la aplica de nuevo, columna por columna:"
   ]
  },
  {
   "cell_type": "code",
   "execution_count": 24,
   "metadata": {},
   "outputs": [],
   "source": [
    "# SOLO UNA VEZ!! (sino reintenta)\n",
    "DF[headers[1:]]=DF[headers[1:]].apply(changeMonotony)"
   ]
  },
  {
   "cell_type": "markdown",
   "metadata": {},
   "source": [
    "¿Funcionó?"
   ]
  },
  {
   "cell_type": "code",
   "execution_count": 25,
   "metadata": {},
   "outputs": [
    {
     "data": {
      "text/plain": [
       "0           NaN\n",
       "1           bad\n",
       "2        middle\n",
       "3           bad\n",
       "4          good\n",
       "5           bad\n",
       "6          good\n",
       "7        middle\n",
       "8        middle\n",
       "9          good\n",
       "10    very good\n",
       "11     very bad\n",
       "12         good\n",
       "13     very bad\n",
       "14          bad\n",
       "15         good\n",
       "16          bad\n",
       "17    very good\n",
       "18         good\n",
       "19       middle\n",
       "Name: PressFreedomIndex, dtype: category\n",
       "Categories (5, object): [very bad < bad < middle < good < very good]"
      ]
     },
     "execution_count": 25,
     "metadata": {},
     "output_type": "execute_result"
    }
   ],
   "source": [
    "DF.PressFreedomIndex.head(20)"
   ]
  },
  {
   "cell_type": "code",
   "execution_count": 26,
   "metadata": {},
   "outputs": [
    {
     "data": {
      "text/plain": [
       "'very good'"
      ]
     },
     "execution_count": 26,
     "metadata": {},
     "output_type": "execute_result"
    }
   ],
   "source": [
    "DF.PressFreedomIndex.max()"
   ]
  },
  {
   "cell_type": "markdown",
   "metadata": {},
   "source": [
    "Todo lo que hemos trabajado podríamos entregarselo a R para que haga su trabajo estadístico, pero como no tiene metadata, es mejor guardar los indices ordinales como número:"
   ]
  },
  {
   "cell_type": "code",
   "execution_count": 27,
   "metadata": {},
   "outputs": [],
   "source": [
    "oldlevels=['very bad','bad','middle','good','very good']\n",
    "newlevels=[1,2,3,4,5]\n",
    "recodeLevels={old:new for old,new in zip (oldlevels,newlevels)}"
   ]
  },
  {
   "cell_type": "code",
   "execution_count": 28,
   "metadata": {},
   "outputs": [
    {
     "data": {
      "text/html": [
       "<div>\n",
       "<style scoped>\n",
       "    .dataframe tbody tr th:only-of-type {\n",
       "        vertical-align: middle;\n",
       "    }\n",
       "\n",
       "    .dataframe tbody tr th {\n",
       "        vertical-align: top;\n",
       "    }\n",
       "\n",
       "    .dataframe thead th {\n",
       "        text-align: right;\n",
       "    }\n",
       "</style>\n",
       "<table border=\"1\" class=\"dataframe\">\n",
       "  <thead>\n",
       "    <tr style=\"text-align: right;\">\n",
       "      <th></th>\n",
       "      <th>Country</th>\n",
       "      <th>FreedomintheWorld</th>\n",
       "      <th>IndexofEconomicFreedom</th>\n",
       "      <th>PressFreedomIndex</th>\n",
       "      <th>DemocracyIndex</th>\n",
       "    </tr>\n",
       "  </thead>\n",
       "  <tbody>\n",
       "    <tr>\n",
       "      <th>0</th>\n",
       "      <td>Abkhazia</td>\n",
       "      <td>3</td>\n",
       "      <td>NaN</td>\n",
       "      <td>NaN</td>\n",
       "      <td>NaN</td>\n",
       "    </tr>\n",
       "    <tr>\n",
       "      <th>1</th>\n",
       "      <td>Afghanistan</td>\n",
       "      <td>1</td>\n",
       "      <td>2.0</td>\n",
       "      <td>2.0</td>\n",
       "      <td>1.0</td>\n",
       "    </tr>\n",
       "    <tr>\n",
       "      <th>2</th>\n",
       "      <td>Albania</td>\n",
       "      <td>3</td>\n",
       "      <td>3.0</td>\n",
       "      <td>3.0</td>\n",
       "      <td>2.0</td>\n",
       "    </tr>\n",
       "    <tr>\n",
       "      <th>3</th>\n",
       "      <td>Algeria</td>\n",
       "      <td>1</td>\n",
       "      <td>1.0</td>\n",
       "      <td>2.0</td>\n",
       "      <td>1.0</td>\n",
       "    </tr>\n",
       "    <tr>\n",
       "      <th>4</th>\n",
       "      <td>Andorra</td>\n",
       "      <td>5</td>\n",
       "      <td>NaN</td>\n",
       "      <td>4.0</td>\n",
       "      <td>NaN</td>\n",
       "    </tr>\n",
       "    <tr>\n",
       "      <th>5</th>\n",
       "      <td>Angola</td>\n",
       "      <td>1</td>\n",
       "      <td>1.0</td>\n",
       "      <td>2.0</td>\n",
       "      <td>1.0</td>\n",
       "    </tr>\n",
       "    <tr>\n",
       "      <th>6</th>\n",
       "      <td>Antigua and Barbuda</td>\n",
       "      <td>5</td>\n",
       "      <td>NaN</td>\n",
       "      <td>4.0</td>\n",
       "      <td>NaN</td>\n",
       "    </tr>\n",
       "    <tr>\n",
       "      <th>7</th>\n",
       "      <td>Argentina</td>\n",
       "      <td>5</td>\n",
       "      <td>2.0</td>\n",
       "      <td>3.0</td>\n",
       "      <td>4.0</td>\n",
       "    </tr>\n",
       "    <tr>\n",
       "      <th>8</th>\n",
       "      <td>Armenia</td>\n",
       "      <td>3</td>\n",
       "      <td>3.0</td>\n",
       "      <td>3.0</td>\n",
       "      <td>2.0</td>\n",
       "    </tr>\n",
       "    <tr>\n",
       "      <th>9</th>\n",
       "      <td>Australia</td>\n",
       "      <td>5</td>\n",
       "      <td>5.0</td>\n",
       "      <td>4.0</td>\n",
       "      <td>5.0</td>\n",
       "    </tr>\n",
       "  </tbody>\n",
       "</table>\n",
       "</div>"
      ],
      "text/plain": [
       "               Country FreedomintheWorld IndexofEconomicFreedom  \\\n",
       "0             Abkhazia                 3                    NaN   \n",
       "1          Afghanistan                 1                    2.0   \n",
       "2              Albania                 3                    3.0   \n",
       "3              Algeria                 1                    1.0   \n",
       "4              Andorra                 5                    NaN   \n",
       "5               Angola                 1                    1.0   \n",
       "6  Antigua and Barbuda                 5                    NaN   \n",
       "7            Argentina                 5                    2.0   \n",
       "8              Armenia                 3                    3.0   \n",
       "9            Australia                 5                    5.0   \n",
       "\n",
       "  PressFreedomIndex DemocracyIndex  \n",
       "0               NaN            NaN  \n",
       "1               2.0            1.0  \n",
       "2               3.0            2.0  \n",
       "3               2.0            1.0  \n",
       "4               4.0            NaN  \n",
       "5               2.0            1.0  \n",
       "6               4.0            NaN  \n",
       "7               3.0            4.0  \n",
       "8               3.0            2.0  \n",
       "9               4.0            5.0  "
      ]
     },
     "execution_count": 28,
     "metadata": {},
     "output_type": "execute_result"
    }
   ],
   "source": [
    "renamer=lambda column: column.cat.rename_categories(recodeLevels)\n",
    "DF[headers[1:]]=DF[headers[1:]].apply(renamer)\n",
    "DF.head(10)"
   ]
  },
  {
   "cell_type": "markdown",
   "metadata": {},
   "source": [
    "Un tema adicional son los valores perdidos. Hay varios NaN.\n",
    "\n",
    "La función para reemplazarlos es sencilla, pero hay que evitar facilismos. Veamos:"
   ]
  },
  {
   "cell_type": "code",
   "execution_count": 29,
   "metadata": {},
   "outputs": [
    {
     "data": {
      "text/plain": [
       "Country                     object\n",
       "FreedomintheWorld         category\n",
       "IndexofEconomicFreedom    category\n",
       "PressFreedomIndex         category\n",
       "DemocracyIndex            category\n",
       "dtype: object"
      ]
     },
     "execution_count": 29,
     "metadata": {},
     "output_type": "execute_result"
    }
   ],
   "source": [
    "#recordar:\n",
    "DF.dtypes"
   ]
  },
  {
   "cell_type": "code",
   "execution_count": 30,
   "metadata": {},
   "outputs": [],
   "source": [
    "#tienen que ser numericos:\n",
    "DF[headers[1:]]=DF[headers[1:]].apply(pd.to_numeric)"
   ]
  },
  {
   "cell_type": "code",
   "execution_count": 31,
   "metadata": {},
   "outputs": [
    {
     "data": {
      "text/html": [
       "<div>\n",
       "<style scoped>\n",
       "    .dataframe tbody tr th:only-of-type {\n",
       "        vertical-align: middle;\n",
       "    }\n",
       "\n",
       "    .dataframe tbody tr th {\n",
       "        vertical-align: top;\n",
       "    }\n",
       "\n",
       "    .dataframe thead th {\n",
       "        text-align: right;\n",
       "    }\n",
       "</style>\n",
       "<table border=\"1\" class=\"dataframe\">\n",
       "  <thead>\n",
       "    <tr style=\"text-align: right;\">\n",
       "      <th></th>\n",
       "      <th>IndexofEconomicFreedom</th>\n",
       "      <th>PressFreedomIndex</th>\n",
       "      <th>DemocracyIndex</th>\n",
       "    </tr>\n",
       "    <tr>\n",
       "      <th>FreedomintheWorld</th>\n",
       "      <th></th>\n",
       "      <th></th>\n",
       "      <th></th>\n",
       "    </tr>\n",
       "  </thead>\n",
       "  <tbody>\n",
       "    <tr>\n",
       "      <th>1.0</th>\n",
       "      <td>2.0</td>\n",
       "      <td>2.0</td>\n",
       "      <td>1.0</td>\n",
       "    </tr>\n",
       "    <tr>\n",
       "      <th>3.0</th>\n",
       "      <td>2.0</td>\n",
       "      <td>3.0</td>\n",
       "      <td>2.0</td>\n",
       "    </tr>\n",
       "    <tr>\n",
       "      <th>5.0</th>\n",
       "      <td>3.0</td>\n",
       "      <td>4.0</td>\n",
       "      <td>4.0</td>\n",
       "    </tr>\n",
       "  </tbody>\n",
       "</table>\n",
       "</div>"
      ],
      "text/plain": [
       "                   IndexofEconomicFreedom  PressFreedomIndex  DemocracyIndex\n",
       "FreedomintheWorld                                                           \n",
       "1.0                                   2.0                2.0             1.0\n",
       "3.0                                   2.0                3.0             2.0\n",
       "5.0                                   3.0                4.0             4.0"
      ]
     },
     "execution_count": 31,
     "metadata": {},
     "output_type": "execute_result"
    }
   ],
   "source": [
    "#mediana por grupos: \n",
    "DF.groupby(headers[1])[headers[2:]].median()"
   ]
  },
  {
   "cell_type": "markdown",
   "metadata": {},
   "source": [
    "Hemos calculado la mediana de cada indice que no sea Freedom in the world, pues ésta sólo tiene 1 valor perdido:\n"
   ]
  },
  {
   "cell_type": "code",
   "execution_count": 32,
   "metadata": {},
   "outputs": [
    {
     "name": "stdout",
     "output_type": "stream",
     "text": [
      "<class 'pandas.core.frame.DataFrame'>\n",
      "RangeIndex: 207 entries, 0 to 206\n",
      "Data columns (total 5 columns):\n",
      "Country                   207 non-null object\n",
      "FreedomintheWorld         206 non-null float64\n",
      "IndexofEconomicFreedom    180 non-null float64\n",
      "PressFreedomIndex         189 non-null float64\n",
      "DemocracyIndex            167 non-null float64\n",
      "dtypes: float64(4), object(1)\n",
      "memory usage: 8.2+ KB\n"
     ]
    }
   ],
   "source": [
    "DF.info() #206 buenos de 207"
   ]
  },
  {
   "cell_type": "code",
   "execution_count": 33,
   "metadata": {},
   "outputs": [
    {
     "data": {
      "text/plain": [
       "Country                    0\n",
       "FreedomintheWorld          1\n",
       "IndexofEconomicFreedom    27\n",
       "PressFreedomIndex         18\n",
       "DemocracyIndex            40\n",
       "dtype: int64"
      ]
     },
     "execution_count": 33,
     "metadata": {},
     "output_type": "execute_result"
    }
   ],
   "source": [
    "# o\n",
    "DF.isnull().sum() "
   ]
  },
  {
   "cell_type": "code",
   "execution_count": 34,
   "metadata": {},
   "outputs": [],
   "source": [
    "import numpy as np\n",
    "\n",
    "for h in headers[2:]:\n",
    "    DF[h].fillna(DF.groupby([\"FreedomintheWorld\"])[h].transform(np.median), inplace=True)"
   ]
  },
  {
   "cell_type": "markdown",
   "metadata": {},
   "source": [
    "Obteniendo:"
   ]
  },
  {
   "cell_type": "code",
   "execution_count": 36,
   "metadata": {},
   "outputs": [
    {
     "data": {
      "text/html": [
       "<div>\n",
       "<style scoped>\n",
       "    .dataframe tbody tr th:only-of-type {\n",
       "        vertical-align: middle;\n",
       "    }\n",
       "\n",
       "    .dataframe tbody tr th {\n",
       "        vertical-align: top;\n",
       "    }\n",
       "\n",
       "    .dataframe thead th {\n",
       "        text-align: right;\n",
       "    }\n",
       "</style>\n",
       "<table border=\"1\" class=\"dataframe\">\n",
       "  <thead>\n",
       "    <tr style=\"text-align: right;\">\n",
       "      <th></th>\n",
       "      <th>Country</th>\n",
       "      <th>FreedomintheWorld</th>\n",
       "      <th>IndexofEconomicFreedom</th>\n",
       "      <th>PressFreedomIndex</th>\n",
       "      <th>DemocracyIndex</th>\n",
       "    </tr>\n",
       "  </thead>\n",
       "  <tbody>\n",
       "    <tr>\n",
       "      <th>0</th>\n",
       "      <td>Abkhazia</td>\n",
       "      <td>3.0</td>\n",
       "      <td>2.0</td>\n",
       "      <td>3.0</td>\n",
       "      <td>2.0</td>\n",
       "    </tr>\n",
       "    <tr>\n",
       "      <th>1</th>\n",
       "      <td>Afghanistan</td>\n",
       "      <td>1.0</td>\n",
       "      <td>2.0</td>\n",
       "      <td>2.0</td>\n",
       "      <td>1.0</td>\n",
       "    </tr>\n",
       "    <tr>\n",
       "      <th>2</th>\n",
       "      <td>Albania</td>\n",
       "      <td>3.0</td>\n",
       "      <td>3.0</td>\n",
       "      <td>3.0</td>\n",
       "      <td>2.0</td>\n",
       "    </tr>\n",
       "    <tr>\n",
       "      <th>3</th>\n",
       "      <td>Algeria</td>\n",
       "      <td>1.0</td>\n",
       "      <td>1.0</td>\n",
       "      <td>2.0</td>\n",
       "      <td>1.0</td>\n",
       "    </tr>\n",
       "    <tr>\n",
       "      <th>4</th>\n",
       "      <td>Andorra</td>\n",
       "      <td>5.0</td>\n",
       "      <td>3.0</td>\n",
       "      <td>4.0</td>\n",
       "      <td>4.0</td>\n",
       "    </tr>\n",
       "    <tr>\n",
       "      <th>5</th>\n",
       "      <td>Angola</td>\n",
       "      <td>1.0</td>\n",
       "      <td>1.0</td>\n",
       "      <td>2.0</td>\n",
       "      <td>1.0</td>\n",
       "    </tr>\n",
       "    <tr>\n",
       "      <th>6</th>\n",
       "      <td>Antigua and Barbuda</td>\n",
       "      <td>5.0</td>\n",
       "      <td>3.0</td>\n",
       "      <td>4.0</td>\n",
       "      <td>4.0</td>\n",
       "    </tr>\n",
       "    <tr>\n",
       "      <th>7</th>\n",
       "      <td>Argentina</td>\n",
       "      <td>5.0</td>\n",
       "      <td>2.0</td>\n",
       "      <td>3.0</td>\n",
       "      <td>4.0</td>\n",
       "    </tr>\n",
       "    <tr>\n",
       "      <th>8</th>\n",
       "      <td>Armenia</td>\n",
       "      <td>3.0</td>\n",
       "      <td>3.0</td>\n",
       "      <td>3.0</td>\n",
       "      <td>2.0</td>\n",
       "    </tr>\n",
       "    <tr>\n",
       "      <th>9</th>\n",
       "      <td>Australia</td>\n",
       "      <td>5.0</td>\n",
       "      <td>5.0</td>\n",
       "      <td>4.0</td>\n",
       "      <td>5.0</td>\n",
       "    </tr>\n",
       "    <tr>\n",
       "      <th>10</th>\n",
       "      <td>Austria</td>\n",
       "      <td>5.0</td>\n",
       "      <td>4.0</td>\n",
       "      <td>5.0</td>\n",
       "      <td>5.0</td>\n",
       "    </tr>\n",
       "    <tr>\n",
       "      <th>11</th>\n",
       "      <td>Azerbaijan</td>\n",
       "      <td>1.0</td>\n",
       "      <td>3.0</td>\n",
       "      <td>1.0</td>\n",
       "      <td>1.0</td>\n",
       "    </tr>\n",
       "    <tr>\n",
       "      <th>12</th>\n",
       "      <td>Bahamas</td>\n",
       "      <td>5.0</td>\n",
       "      <td>3.0</td>\n",
       "      <td>4.0</td>\n",
       "      <td>4.0</td>\n",
       "    </tr>\n",
       "    <tr>\n",
       "      <th>13</th>\n",
       "      <td>Bahrain</td>\n",
       "      <td>1.0</td>\n",
       "      <td>3.0</td>\n",
       "      <td>1.0</td>\n",
       "      <td>1.0</td>\n",
       "    </tr>\n",
       "    <tr>\n",
       "      <th>14</th>\n",
       "      <td>Bangladesh</td>\n",
       "      <td>3.0</td>\n",
       "      <td>2.0</td>\n",
       "      <td>2.0</td>\n",
       "      <td>2.0</td>\n",
       "    </tr>\n",
       "    <tr>\n",
       "      <th>15</th>\n",
       "      <td>Barbados</td>\n",
       "      <td>5.0</td>\n",
       "      <td>2.0</td>\n",
       "      <td>4.0</td>\n",
       "      <td>4.0</td>\n",
       "    </tr>\n",
       "    <tr>\n",
       "      <th>16</th>\n",
       "      <td>Belarus</td>\n",
       "      <td>1.0</td>\n",
       "      <td>2.0</td>\n",
       "      <td>2.0</td>\n",
       "      <td>1.0</td>\n",
       "    </tr>\n",
       "    <tr>\n",
       "      <th>17</th>\n",
       "      <td>Belgium</td>\n",
       "      <td>5.0</td>\n",
       "      <td>3.0</td>\n",
       "      <td>5.0</td>\n",
       "      <td>4.0</td>\n",
       "    </tr>\n",
       "    <tr>\n",
       "      <th>18</th>\n",
       "      <td>Belize</td>\n",
       "      <td>5.0</td>\n",
       "      <td>2.0</td>\n",
       "      <td>4.0</td>\n",
       "      <td>4.0</td>\n",
       "    </tr>\n",
       "    <tr>\n",
       "      <th>19</th>\n",
       "      <td>Benin</td>\n",
       "      <td>5.0</td>\n",
       "      <td>2.0</td>\n",
       "      <td>3.0</td>\n",
       "      <td>2.0</td>\n",
       "    </tr>\n",
       "  </tbody>\n",
       "</table>\n",
       "</div>"
      ],
      "text/plain": [
       "                Country  FreedomintheWorld  IndexofEconomicFreedom  \\\n",
       "0              Abkhazia                3.0                     2.0   \n",
       "1           Afghanistan                1.0                     2.0   \n",
       "2               Albania                3.0                     3.0   \n",
       "3               Algeria                1.0                     1.0   \n",
       "4               Andorra                5.0                     3.0   \n",
       "5                Angola                1.0                     1.0   \n",
       "6   Antigua and Barbuda                5.0                     3.0   \n",
       "7             Argentina                5.0                     2.0   \n",
       "8               Armenia                3.0                     3.0   \n",
       "9             Australia                5.0                     5.0   \n",
       "10              Austria                5.0                     4.0   \n",
       "11           Azerbaijan                1.0                     3.0   \n",
       "12              Bahamas                5.0                     3.0   \n",
       "13              Bahrain                1.0                     3.0   \n",
       "14           Bangladesh                3.0                     2.0   \n",
       "15             Barbados                5.0                     2.0   \n",
       "16              Belarus                1.0                     2.0   \n",
       "17              Belgium                5.0                     3.0   \n",
       "18               Belize                5.0                     2.0   \n",
       "19                Benin                5.0                     2.0   \n",
       "\n",
       "    PressFreedomIndex  DemocracyIndex  \n",
       "0                 3.0             2.0  \n",
       "1                 2.0             1.0  \n",
       "2                 3.0             2.0  \n",
       "3                 2.0             1.0  \n",
       "4                 4.0             4.0  \n",
       "5                 2.0             1.0  \n",
       "6                 4.0             4.0  \n",
       "7                 3.0             4.0  \n",
       "8                 3.0             2.0  \n",
       "9                 4.0             5.0  \n",
       "10                5.0             5.0  \n",
       "11                1.0             1.0  \n",
       "12                4.0             4.0  \n",
       "13                1.0             1.0  \n",
       "14                2.0             2.0  \n",
       "15                4.0             4.0  \n",
       "16                2.0             1.0  \n",
       "17                5.0             4.0  \n",
       "18                4.0             4.0  \n",
       "19                3.0             2.0  "
      ]
     },
     "execution_count": 36,
     "metadata": {},
     "output_type": "execute_result"
    }
   ],
   "source": [
    "DF.head(20)"
   ]
  },
  {
   "cell_type": "markdown",
   "metadata": {},
   "source": [
    "Un detalle pequeño es enviar esta data con buenos nombres de columnas:"
   ]
  },
  {
   "cell_type": "code",
   "execution_count": 37,
   "metadata": {},
   "outputs": [],
   "source": [
    "DF.columns=[\"Country\",\"WorldFreedom\",\"EconomicFreedom\",\"PressFreedom\",\"Democracy\"]"
   ]
  },
  {
   "cell_type": "markdown",
   "metadata": {},
   "source": [
    "**Guardando archivo**\n",
    "\n",
    "A esta altura es bueno guardar el archivo, pues ya está listo:"
   ]
  },
  {
   "cell_type": "code",
   "execution_count": 38,
   "metadata": {},
   "outputs": [],
   "source": [
    "DF.to_csv(\"indexes.csv\",index=None)"
   ]
  },
  {
   "cell_type": "markdown",
   "metadata": {},
   "source": [
    "Traigamos la data de los departamentos de Colombia que vimos al final de la unidad anterior:"
   ]
  },
  {
   "cell_type": "code",
   "execution_count": null,
   "metadata": {},
   "outputs": [],
   "source": [
    "idhCol2='https://es.wikipedia.org/wiki/Anexo:Departamentos_de_Colombia_por_IDH'\n",
    "idhColT2=pd.read_html(idhCol2,header=0,flavor='bs4',attrs={'class': 'sortable',},\n",
    "                       thousands='\\xa0', decimal=',')[0]\n",
    "idhColT2.iloc[:,2]=idhColT2.iloc[:,2].str.replace(\"\\s\",\"\")\n",
    "idhColT2.columns=[element.split('[')[0].replace(\" \",\"\") for element in idhColT2.columns]\n",
    "idhColT2.Entidad=[element.split('[')[0] for element in idhColT2.Entidad]\n",
    "newRows=['Amazonas', 'Guainia', 'Guaviare', 'Vaupés', 'Vichada']\n",
    "info=idhColT2[idhColT2.Entidad=='Región Amazónica'].values.tolist()[0][1:]\n",
    "newData = pd.DataFrame([[row] + info for row in newRows], columns=idhColT2.columns)\n",
    "idhColT2=idhColT2.append(newData,ignore_index=True)\n",
    "idhColT2.drop([0,24,29],inplace=True)\n",
    "numericos=list(idhColT2.IDH)\n",
    "numericos.extend(list(idhColT2.Población))\n",
    "\n",
    "inapropiados=[]\n",
    "for n in numericos:\n",
    "    try:\n",
    "        float(n)\n",
    "    except ValueError:\n",
    "        if not n in inapropiados: # evitar duplicados\n",
    "            inapropiados.append(n)\n",
    "idhColT2.replace(inapropiados,value=[None]*len(inapropiados),inplace=True)\n",
    "idhColT2.reset_index(drop=True,inplace=True)"
   ]
  },
  {
   "cell_type": "markdown",
   "metadata": {},
   "source": [
    "Así que actualmente, tenemos:"
   ]
  },
  {
   "cell_type": "code",
   "execution_count": null,
   "metadata": {},
   "outputs": [],
   "source": [
    "idhColT2"
   ]
  },
  {
   "cell_type": "markdown",
   "metadata": {},
   "source": [
    "Aquí el problema es distinto. Los datos faltantes necesitamos reemplazarlos, no estimarlos. Es decir, hay que traer la data de otro sitio."
   ]
  },
  {
   "cell_type": "code",
   "execution_count": null,
   "metadata": {},
   "outputs": [],
   "source": [
    "import IPython\n",
    "\n",
    "pobCol='https://es.wikipedia.org/wiki/Anexo:Departamentos_de_Colombia_por_poblaci%C3%B3n'\n",
    "iframe = '<iframe src=' + pobCol + ' width=700 height=350></iframe>'\n",
    "IPython.display.HTML(iframe)"
   ]
  },
  {
   "cell_type": "code",
   "execution_count": null,
   "metadata": {},
   "outputs": [],
   "source": [
    "\n",
    "colPOB=pd.read_html(pobCol,header=0,flavor='bs4',attrs={'class': 'sortable',},\n",
    "                       thousands='\\xa0', decimal=',')[0]\n",
    "\n",
    "# q ha venido?\n",
    "colPOB.dtypes"
   ]
  },
  {
   "cell_type": "code",
   "execution_count": null,
   "metadata": {},
   "outputs": [],
   "source": [
    "colPOB.info()"
   ]
  },
  {
   "cell_type": "markdown",
   "metadata": {},
   "source": [
    "Recuerda que tenemos 32 regiones, es decir aquí ha venido algo extra: Bogotá y Colombia:"
   ]
  },
  {
   "cell_type": "code",
   "execution_count": null,
   "metadata": {},
   "outputs": [],
   "source": [
    "colPOB[colPOB.Departamento.isin (['Colombia','Bogotá','Cundinamarca'])]"
   ]
  },
  {
   "cell_type": "markdown",
   "metadata": {},
   "source": [
    "De aquí, vemos que a la info de Cundinamarca debe sumarsele la de Bogotá, y eliminar luego Bogotá y Colombia."
   ]
  },
  {
   "cell_type": "code",
   "execution_count": null,
   "metadata": {},
   "outputs": [],
   "source": [
    "colPOB.iloc[3,2:]=colPOB.iloc[3,2:]+colPOB.iloc[0,2:]"
   ]
  },
  {
   "cell_type": "code",
   "execution_count": null,
   "metadata": {},
   "outputs": [],
   "source": [
    "colPOB.drop([0,33],inplace=True)\n",
    "colPOB.reset_index(drop=True,inplace=True)"
   ]
  },
  {
   "cell_type": "code",
   "execution_count": null,
   "metadata": {},
   "outputs": [],
   "source": [
    "# asi queda:\n",
    "colPOB"
   ]
  },
  {
   "cell_type": "markdown",
   "metadata": {},
   "source": [
    "Preparemonos para llevar esta info a la data anterior.\n",
    "\n",
    "Eliminemos cosas innecesarias. La primera columna (No) no es necesaria:"
   ]
  },
  {
   "cell_type": "code",
   "execution_count": null,
   "metadata": {},
   "outputs": [],
   "source": [
    "colPOB.drop(['N.º'], axis=1,inplace=True)"
   ]
  },
  {
   "cell_type": "markdown",
   "metadata": {},
   "source": [
    "En la data con el IDH por provincia, Población y PaísComparable tampoco son necesarias:"
   ]
  },
  {
   "cell_type": "code",
   "execution_count": null,
   "metadata": {},
   "outputs": [],
   "source": [
    "idhColT2.drop(['Población','PaísComparable'], axis=1,inplace=True)"
   ]
  },
  {
   "cell_type": "markdown",
   "metadata": {},
   "source": [
    "Ambas datas tienen el mismo tamaño?"
   ]
  },
  {
   "cell_type": "code",
   "execution_count": null,
   "metadata": {},
   "outputs": [],
   "source": [
    "len(colPOB)==len(idhColT2)"
   ]
  },
  {
   "cell_type": "markdown",
   "metadata": {},
   "source": [
    "Si es así, la unión de ambas debería ser igual, considerando lo que hemos hecho, pero siempre hay detalles que faltan:"
   ]
  },
  {
   "cell_type": "code",
   "execution_count": null,
   "metadata": {},
   "outputs": [],
   "source": [
    "test=idhColT2.merge(colPOB,left_on='Entidad',right_on='Departamento',how='outer')\n",
    "test"
   ]
  },
  {
   "cell_type": "markdown",
   "metadata": {},
   "source": [
    "Nuestro test nos muestra quienes no concuerdan para el __merge__:"
   ]
  },
  {
   "cell_type": "code",
   "execution_count": null,
   "metadata": {},
   "outputs": [],
   "source": [
    "test[pd.isnull(test.IDH) | pd.isnull(test.Departamento)]"
   ]
  },
  {
   "cell_type": "markdown",
   "metadata": {},
   "source": [
    "Arriba se nota por que no hubo una combinación perfecta. Resolvamos y re hagamos:"
   ]
  },
  {
   "cell_type": "code",
   "execution_count": null,
   "metadata": {},
   "outputs": [],
   "source": [
    "idhColT2[idhColT2.Entidad.isin(['San Andrés', 'Guainia'])]\n"
   ]
  },
  {
   "cell_type": "code",
   "execution_count": null,
   "metadata": {},
   "outputs": [],
   "source": [
    "colPOB[colPOB.Departamento.isin(['San Andrés y Providencia', 'Guainía'])]"
   ]
  },
  {
   "cell_type": "code",
   "execution_count": null,
   "metadata": {},
   "outputs": [],
   "source": [
    "idhColT2.loc[8, 'Entidad']=colPOB.loc[28, 'Departamento']\n",
    "idhColT2.loc[28, 'Entidad']=colPOB.loc[31, 'Departamento']"
   ]
  },
  {
   "cell_type": "markdown",
   "metadata": {},
   "source": [
    "Ahora debe estar bien:"
   ]
  },
  {
   "cell_type": "code",
   "execution_count": null,
   "metadata": {},
   "outputs": [],
   "source": [
    "idhColT2.merge(colPOB,left_on='Entidad',right_on='Departamento',how='outer')"
   ]
  },
  {
   "cell_type": "markdown",
   "metadata": {},
   "source": [
    "Hagamos el merge y eliminemos Entidad:"
   ]
  },
  {
   "cell_type": "code",
   "execution_count": null,
   "metadata": {},
   "outputs": [],
   "source": [
    "idhColFinal=idhColT2.merge(colPOB,left_on='Entidad',right_on='Departamento',how='outer')\n",
    "idhColFinal.drop(['Entidad'],axis=1,inplace=True)\n",
    "idhColFinal"
   ]
  },
  {
   "cell_type": "markdown",
   "metadata": {},
   "source": [
    "Hemos visto que el lenguaje español añade pequeñas complejidades, pues usa tildes. Creemos una columna _normalizada_ extra con el nombre del departamento:"
   ]
  },
  {
   "cell_type": "code",
   "execution_count": null,
   "metadata": {},
   "outputs": [],
   "source": [
    "#instalar unidecode\n",
    "from unidecode import unidecode as notilde"
   ]
  },
  {
   "cell_type": "code",
   "execution_count": null,
   "metadata": {},
   "outputs": [],
   "source": [
    "byeTilde=lambda x: x if x is None else notilde(x)\n",
    "idhColFinal[['DepartamentoNorm']]=idhColFinal[['Departamento']].applymap(byeTilde)\n",
    "#\n",
    "idhColFinal"
   ]
  },
  {
   "cell_type": "markdown",
   "metadata": {},
   "source": [
    "Al igual que en el caso anterior, debemos a esta altura guardar nuestro archivo:"
   ]
  },
  {
   "cell_type": "code",
   "execution_count": null,
   "metadata": {},
   "outputs": [],
   "source": [
    "idhColFinal.to_csv(\"colombia.csv\",index=None)"
   ]
  },
  {
   "cell_type": "code",
   "execution_count": null,
   "metadata": {},
   "outputs": [],
   "source": []
  }
 ],
 "metadata": {
  "anaconda-cloud": {},
  "kernelspec": {
   "display_name": "Python 3",
   "language": "python",
   "name": "python3"
  },
  "language_info": {
   "codemirror_mode": {
    "name": "ipython",
    "version": 3
   },
   "file_extension": ".py",
   "mimetype": "text/x-python",
   "name": "python",
   "nbconvert_exporter": "python",
   "pygments_lexer": "ipython3",
   "version": "3.6.5"
  }
 },
 "nbformat": 4,
 "nbformat_minor": 1
}
