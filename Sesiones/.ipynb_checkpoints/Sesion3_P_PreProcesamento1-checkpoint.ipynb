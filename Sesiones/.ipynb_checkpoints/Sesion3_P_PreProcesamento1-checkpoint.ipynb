{
 "cells": [
  {
   "cell_type": "markdown",
   "metadata": {},
   "source": [
    "<center> <h1>Herramientas Computacionales <br></br>para la Investigación Interdisciplinaria Reproducible</h1> </center>\n",
    "\n",
    "<br></br>\n",
    "\n",
    "* Profesor:  <a href=\"http://www.pucp.edu.pe/profesor/jose-manuel-magallanes/\" target=\"_blank\">Dr. José Manuel Magallanes, PhD</a> ([jmagallanes@pucp.edu.pe](mailto:jmagallanes@pucp.edu.pe))<br>Profesor del **Departamento de Ciencias Sociales, Pontificia Universidad Católica del Peru**.<br>\n",
    "Senior Data Scientist del **eScience Institute** and Visiting Professor at **Evans School of Public Policy and Governance, University of Washington**.<br>\n",
    "Fellow Catalyst, **Berkeley Initiative for Transparency in Social Sciences, UC Berkeley**.\n",
    "\n",
    "## Sesión 3: Pre Procesamiento de Datos\n",
    "\n",
    "\n",
    "## Parte A: Data Cleaning en Python"
   ]
  },
  {
   "cell_type": "markdown",
   "metadata": {},
   "source": [
    "El pre procesamiento de datos es la parte más tediosa del proceso de investigación.\n",
    "\n",
    "Esta primera parte delata diversos problemas que se tienen con los datos reales que están en la web, como la que vemos a continuación:"
   ]
  },
  {
   "cell_type": "code",
   "execution_count": null,
   "metadata": {
    "scrolled": true
   },
   "outputs": [],
   "source": [
    "import IPython\n",
    "wikiLink=\"https://en.wikipedia.org/wiki/List_of_freedom_indices\" \n",
    "iframe = '<iframe src=' + wikiLink + ' width=700 height=350></iframe>'\n",
    "IPython.display.HTML(iframe)"
   ]
  },
  {
   "cell_type": "markdown",
   "metadata": {},
   "source": [
    "Recuerda inspeccionar la tabla para encontrar algun atributo que sirva para su descarga. De ahí, continua."
   ]
  },
  {
   "cell_type": "code",
   "execution_count": null,
   "metadata": {},
   "outputs": [],
   "source": [
    "# antes instala'beautifulsoup4'\n",
    "# es posible que necesites salir y volver a cargar notebook\n",
    "\n",
    "import pandas as pd\n",
    "\n",
    "wikiTables=pd.read_html(wikiLink,header=0,flavor='bs4',attrs={'class': 'wikitable sortable',})"
   ]
  },
  {
   "cell_type": "code",
   "execution_count": null,
   "metadata": {},
   "outputs": [],
   "source": [
    "# cuantas tenemos?\n",
    "len(wikiTables)"
   ]
  },
  {
   "cell_type": "markdown",
   "metadata": {},
   "source": [
    "Hasta aquí todo parece bien. Como solo hay uno, lo traigo y comienzo a verificar 'suciedades'."
   ]
  },
  {
   "cell_type": "code",
   "execution_count": null,
   "metadata": {},
   "outputs": [],
   "source": [
    "DF=wikiTables[0]\n",
    "\n",
    "#primera mirada\n",
    "DF"
   ]
  },
  {
   "cell_type": "markdown",
   "metadata": {},
   "source": [
    "La limpieza requiere estrategia. Lo primero que salta a la vista, son los _footnotes_ que están en los títulos:"
   ]
  },
  {
   "cell_type": "code",
   "execution_count": null,
   "metadata": {},
   "outputs": [],
   "source": [
    "DF.columns"
   ]
  },
  {
   "cell_type": "code",
   "execution_count": null,
   "metadata": {},
   "outputs": [],
   "source": [
    "# aqui ves que pasa cuando divido cada celda usando el caracter '['\n",
    "[element.split('[') for element in DF.columns]"
   ]
  },
  {
   "cell_type": "code",
   "execution_count": null,
   "metadata": {},
   "outputs": [],
   "source": [
    "# Te das cuenta que te puedes quedar con el primer elemento cada vez que partes:\n",
    "[element.split('[')[0] for element in DF.columns]"
   ]
  },
  {
   "cell_type": "markdown",
   "metadata": {},
   "source": [
    "También hay que evitar espacios en blanco:"
   ]
  },
  {
   "cell_type": "code",
   "execution_count": null,
   "metadata": {},
   "outputs": [],
   "source": [
    "outSymbol=' ' \n",
    "inSymbol=''\n",
    "[element.split('[')[0].replace(outSymbol,inSymbol) for element in DF.columns]"
   ]
  },
  {
   "cell_type": "markdown",
   "metadata": {},
   "source": [
    "Los números también molestan, pero están en diferentes sitios. Mejor intentemos expresiones regulares:"
   ]
  },
  {
   "cell_type": "code",
   "execution_count": null,
   "metadata": {},
   "outputs": [],
   "source": [
    "import re  # debe estar instalado.\n",
    "\n",
    "# espacios: \\\\s+\n",
    "# uno o mas numeros \\\\d+\n",
    "# bracket que abre \\\\[\n",
    "# bracket que cierra \\\\]\n",
    "\n",
    "pattern='\\\\s+|\\\\d+|\\\\[|\\\\]'\n",
    "nothing=''\n",
    "\n",
    "#substituyendo 'pattern' por 'nothing':\n",
    "[re.sub(pattern,nothing,element) for element in DF.columns]"
   ]
  },
  {
   "cell_type": "markdown",
   "metadata": {},
   "source": [
    "Ya tengo nuevos titulos de columna (headers)!!"
   ]
  },
  {
   "cell_type": "code",
   "execution_count": null,
   "metadata": {},
   "outputs": [],
   "source": [
    "newHeaders=[re.sub(pattern,nothing,element) for element in DF.columns]"
   ]
  },
  {
   "cell_type": "markdown",
   "metadata": {},
   "source": [
    "Preparemos los cambios:"
   ]
  },
  {
   "cell_type": "code",
   "execution_count": null,
   "metadata": {},
   "outputs": [],
   "source": [
    "# veamos los cambios:\n",
    "{old:new for old,new in zip(DF.columns,newHeaders)}"
   ]
  },
  {
   "cell_type": "markdown",
   "metadata": {},
   "source": [
    "Uso un dict por si hubieses querido cambiar solo algunas columnas:"
   ]
  },
  {
   "cell_type": "code",
   "execution_count": null,
   "metadata": {},
   "outputs": [],
   "source": [
    "changes={old:new for old,new in zip(DF.columns,newHeaders)}\n",
    "DF.rename(columns=changes,inplace=True)"
   ]
  },
  {
   "cell_type": "code",
   "execution_count": null,
   "metadata": {},
   "outputs": [],
   "source": [
    "# ahora tenemos:\n",
    "DF"
   ]
  },
  {
   "cell_type": "markdown",
   "metadata": {},
   "source": [
    "Las columnas son categorías, veamos si todas se han escrito de la manera correcta:"
   ]
  },
  {
   "cell_type": "code",
   "execution_count": null,
   "metadata": {},
   "outputs": [],
   "source": [
    "DF.FreedomintheWorld.value_counts()"
   ]
  },
  {
   "cell_type": "code",
   "execution_count": null,
   "metadata": {},
   "outputs": [],
   "source": [
    "DF.IndexofEconomicFreedom.value_counts()"
   ]
  },
  {
   "cell_type": "code",
   "execution_count": null,
   "metadata": {},
   "outputs": [],
   "source": [
    "DF.PressFreedomIndex.value_counts()"
   ]
  },
  {
   "cell_type": "code",
   "execution_count": null,
   "metadata": {},
   "outputs": [],
   "source": [
    "DF.DemocracyIndex.value_counts()"
   ]
  },
  {
   "cell_type": "markdown",
   "metadata": {},
   "source": [
    "Pues hasta aquí está conforme. Veamos otro caso."
   ]
  },
  {
   "cell_type": "markdown",
   "metadata": {},
   "source": [
    "_______"
   ]
  },
  {
   "cell_type": "code",
   "execution_count": null,
   "metadata": {},
   "outputs": [],
   "source": [
    "idhCol=\"https://www.datosmacro.com/idh/colombia\" \n",
    "iframe = '<iframe src=' + idhCol + ' width=700 height=350></iframe>'\n",
    "IPython.display.HTML(iframe)"
   ]
  },
  {
   "cell_type": "markdown",
   "metadata": {},
   "source": [
    "Luego de inspeccionar la tabla, podemos traerla:"
   ]
  },
  {
   "cell_type": "code",
   "execution_count": null,
   "metadata": {},
   "outputs": [],
   "source": [
    "import pandas as pd\n",
    "\n",
    "webTable=pd.read_html(idhCol,header=0,flavor='bs4',attrs={'id': 'tb0',})"
   ]
  },
  {
   "cell_type": "code",
   "execution_count": null,
   "metadata": {},
   "outputs": [],
   "source": [
    "len(webTable)"
   ]
  },
  {
   "cell_type": "code",
   "execution_count": null,
   "metadata": {},
   "outputs": [],
   "source": [
    "idhColT=webTable[0]\n",
    "idhColT"
   ]
  },
  {
   "cell_type": "markdown",
   "metadata": {},
   "source": [
    "El problema es que se borraron los decimales. Como se ve en la web, estos tenían una coma en vez de un punto. A esta altura podemos eliminarlo, o buscar si durante el proceso de colección se puede mejorar esto; dale una mirada a la función:"
   ]
  },
  {
   "cell_type": "code",
   "execution_count": null,
   "metadata": {},
   "outputs": [],
   "source": [
    "?pd.read_html"
   ]
  },
  {
   "cell_type": "markdown",
   "metadata": {},
   "source": [
    "Siguiendo las instrucciones escibimos:"
   ]
  },
  {
   "cell_type": "code",
   "execution_count": null,
   "metadata": {},
   "outputs": [],
   "source": [
    "idhColT=pd.read_html(idhCol,header=0,flavor='bs4',attrs={'id': 'tb0',},\n",
    "                      thousands=None, decimal=',')[0]\n",
    "idhColT"
   ]
  },
  {
   "cell_type": "markdown",
   "metadata": {},
   "source": [
    "El ranking no es un numero, pues el símbolo lo evita, eliminemoslo ([revisar](https://ascii.cl/es/codigos-html.htm)):"
   ]
  },
  {
   "cell_type": "code",
   "execution_count": null,
   "metadata": {},
   "outputs": [],
   "source": [
    "idhColT.loc[:,'Ranking IDH']=idhColT.loc[:,'Ranking IDH'].str.replace(chr(186),\"\")\n",
    "idhColT"
   ]
  },
  {
   "cell_type": "markdown",
   "metadata": {},
   "source": [
    "______\n",
    "\n",
    "\n",
    "Traigamos una nueva tabla:"
   ]
  },
  {
   "cell_type": "code",
   "execution_count": null,
   "metadata": {
    "scrolled": true
   },
   "outputs": [],
   "source": [
    "idhCol2='https://es.wikipedia.org/wiki/Anexo:Departamentos_de_Colombia_por_IDH'\n",
    "iframe = '<iframe src=' + idhCol2 + ' width=700 height=350></iframe>'\n",
    "IPython.display.HTML(iframe)"
   ]
  },
  {
   "cell_type": "markdown",
   "metadata": {},
   "source": [
    "Aparentemente sabemos qué hacer:"
   ]
  },
  {
   "cell_type": "code",
   "execution_count": null,
   "metadata": {},
   "outputs": [],
   "source": [
    "idhColT2=pd.read_html(idhCol2,header=0,flavor='bs4',attrs={'class': 'sortable',},\n",
    "                       thousands=' ', decimal=',')[0]\n",
    "idhColT2"
   ]
  },
  {
   "cell_type": "markdown",
   "metadata": {},
   "source": [
    "Aparentemente, sólo Boyacá tenía espacios en blanco.\n",
    "\n",
    "En este caso, el primer problema es que los miles marcados con _espacios_ no desaparecieron. Eso se debe a que en el html están señalados como **& nbsp;**. De ahi que:"
   ]
  },
  {
   "cell_type": "code",
   "execution_count": null,
   "metadata": {},
   "outputs": [],
   "source": [
    "idhColT2=pd.read_html(idhCol2,header=0,flavor='bs4',attrs={'class': 'sortable',},\n",
    "                       thousands=chr(160), decimal=',')[0]\n",
    "idhColT2"
   ]
  },
  {
   "cell_type": "markdown",
   "metadata": {},
   "source": [
    "Pues, Boyacá es ahora el problema. Eso lo resolveremos fuera de la llamada:"
   ]
  },
  {
   "cell_type": "code",
   "execution_count": null,
   "metadata": {},
   "outputs": [],
   "source": [
    "idhColT2.iloc[:,2]=idhColT2.iloc[:,2].str.replace(\"\\s\",\"\")\n",
    "idhColT2"
   ]
  },
  {
   "cell_type": "markdown",
   "metadata": {},
   "source": [
    "Los nombres de columnas necesitan tratamiento, podríamos usar lo que ya vimos:"
   ]
  },
  {
   "cell_type": "code",
   "execution_count": null,
   "metadata": {},
   "outputs": [],
   "source": [
    "[re.sub(pattern,nothing,element) for element in idhColT2.columns]"
   ]
  },
  {
   "cell_type": "markdown",
   "metadata": {},
   "source": [
    "O mejorar el patrón:"
   ]
  },
  {
   "cell_type": "code",
   "execution_count": null,
   "metadata": {},
   "outputs": [],
   "source": [
    "pattern2='\\\\s+|\\\\d+|\\\\[|\\\\]|\\\\u200b'\n",
    "[re.sub(pattern2,nothing,element) for element in idhColT2.columns]"
   ]
  },
  {
   "cell_type": "markdown",
   "metadata": {},
   "source": [
    "Pero esta vez, hay _footnotes_ con texto, cuando antes sólo tenía números, de ahi que jueguemos simple:"
   ]
  },
  {
   "cell_type": "code",
   "execution_count": null,
   "metadata": {},
   "outputs": [],
   "source": [
    "[element.split('[')[0].replace(\" \",\"\") for element in idhColT2.columns]"
   ]
  },
  {
   "cell_type": "markdown",
   "metadata": {},
   "source": [
    "Cambiemos con esto los _headers_:"
   ]
  },
  {
   "cell_type": "code",
   "execution_count": null,
   "metadata": {},
   "outputs": [],
   "source": [
    "idhColT2.columns=[element.split('[')[0].replace(\" \",\"\") for element in idhColT2.columns]\n",
    "idhColT2"
   ]
  },
  {
   "cell_type": "markdown",
   "metadata": {},
   "source": [
    "Sucede algo similar con los contenidos de las columnas (vease 'Región Amazónica'). De ahí que:"
   ]
  },
  {
   "cell_type": "code",
   "execution_count": null,
   "metadata": {},
   "outputs": [],
   "source": [
    "idhColT2.Entidad=[element.split('[')[0] for element in idhColT2.Entidad]\n",
    "idhColT2"
   ]
  },
  {
   "cell_type": "markdown",
   "metadata": {},
   "source": [
    "Ten en cuenta que la nota que acabamos de eliminar decía: _'Se refiere los departamentos de Amazonas, Guainia, Guaviare, Vaupés y Vichada.'_ Una alternativa, que haremos aquí es crear esas filas:"
   ]
  },
  {
   "cell_type": "code",
   "execution_count": null,
   "metadata": {},
   "outputs": [],
   "source": [
    "# nombres nuevos\n",
    "newRows=['Amazonas', 'Guainia', 'Guaviare', 'Vaupés', 'Vichada']"
   ]
  },
  {
   "cell_type": "code",
   "execution_count": null,
   "metadata": {},
   "outputs": [],
   "source": [
    "#Valor de Region Amazonica:\n",
    "idhColT2[idhColT2.Entidad=='Región Amazónica']"
   ]
  },
  {
   "cell_type": "code",
   "execution_count": null,
   "metadata": {},
   "outputs": [],
   "source": [
    "#Valor de Region Amazonica como lista:\n",
    "idhColT2[idhColT2.Entidad=='Región Amazónica'].values.tolist()[0]"
   ]
  },
  {
   "cell_type": "code",
   "execution_count": null,
   "metadata": {},
   "outputs": [],
   "source": [
    "#Valor de Region Amazonica como lista, sin elemento 1:\n",
    "idhColT2[idhColT2.Entidad=='Región Amazónica'].values.tolist()[0][1:]"
   ]
  },
  {
   "cell_type": "code",
   "execution_count": null,
   "metadata": {},
   "outputs": [],
   "source": [
    "info=idhColT2[idhColT2.Entidad=='Región Amazónica'].values.tolist()[0][1:]"
   ]
  },
  {
   "cell_type": "code",
   "execution_count": null,
   "metadata": {},
   "outputs": [],
   "source": [
    "# creando filas nuevas como listas:\n",
    "\n",
    "[[row] + info for row in newRows]"
   ]
  },
  {
   "cell_type": "code",
   "execution_count": null,
   "metadata": {},
   "outputs": [],
   "source": [
    "newData = pd.DataFrame([[row] + info for row in newRows], columns=idhColT2.columns)\n",
    "idhColT2.append(newData,ignore_index=True)"
   ]
  },
  {
   "cell_type": "code",
   "execution_count": null,
   "metadata": {},
   "outputs": [],
   "source": [
    "# Ya que estamos satisfechos:\n",
    "idhColT2=idhColT2.append(newData,ignore_index=True)"
   ]
  },
  {
   "cell_type": "markdown",
   "metadata": {},
   "source": [
    "En el DF sobran ya tres filas, la que hemos desagregado, 'Bogota' y 'Colombia':"
   ]
  },
  {
   "cell_type": "code",
   "execution_count": null,
   "metadata": {},
   "outputs": [],
   "source": [
    "idhColT2[idhColT2.Entidad.isin (['Región Amazónica','Colombia','Bogotá'])]"
   ]
  },
  {
   "cell_type": "code",
   "execution_count": null,
   "metadata": {},
   "outputs": [],
   "source": [
    "#eliminando\n",
    "idhColT2.drop([0,24,29],inplace=True)\n",
    "idhColT2.reset_index(drop=True,inplace=True)"
   ]
  },
  {
   "cell_type": "markdown",
   "metadata": {},
   "source": [
    "Es importante darnos cuenta que hay símbolos _no apropiados_ para representar valores faltantes (i.e.'--'). Eso es preocupante, en particular para los numéricos. Juntemos ambas columnas para buscar inapropiados:"
   ]
  },
  {
   "cell_type": "code",
   "execution_count": null,
   "metadata": {},
   "outputs": [],
   "source": [
    "numericos=list(idhColT2.IDH)\n",
    "numericos.extend(list(idhColT2.Población))"
   ]
  },
  {
   "cell_type": "code",
   "execution_count": null,
   "metadata": {},
   "outputs": [],
   "source": [
    "numericos"
   ]
  },
  {
   "cell_type": "markdown",
   "metadata": {},
   "source": [
    "Vemos que varios numeros está como texto, lo que por ahora no es problema. La idea es encontrar aquello que están entre los números y no lo son:"
   ]
  },
  {
   "cell_type": "code",
   "execution_count": null,
   "metadata": {},
   "outputs": [],
   "source": [
    "for n in numericos:\n",
    "    float(n)"
   ]
  },
  {
   "cell_type": "markdown",
   "metadata": {},
   "source": [
    "Hemos encontrado un simbolo que no se puede convertir a _float_. Podría haber otros, pero ya sabemos qué error arroja.\n",
    "\n",
    "De ahí que:"
   ]
  },
  {
   "cell_type": "code",
   "execution_count": null,
   "metadata": {},
   "outputs": [],
   "source": [
    "inapropiados=[]\n",
    "for n in numericos:\n",
    "    try:\n",
    "        float(n)\n",
    "    except ValueError:\n",
    "        if not n in inapropiados: # evitar duplicados\n",
    "            inapropiados.append(n)\n"
   ]
  },
  {
   "cell_type": "code",
   "execution_count": null,
   "metadata": {},
   "outputs": [],
   "source": [
    "# aqui están\n",
    "inapropiados"
   ]
  },
  {
   "cell_type": "markdown",
   "metadata": {},
   "source": [
    "Sólo había un símbolo (ya lo sabíamos), pero el código sirve para más de uno.\n",
    "\n",
    "Lo que nos queda es reemplazar ese valor por 'None':"
   ]
  },
  {
   "cell_type": "code",
   "execution_count": null,
   "metadata": {},
   "outputs": [],
   "source": [
    "idhColT2.replace(inapropiados,value=[None]*len(inapropiados)) # se necesita la misma cantidad de 'None'"
   ]
  },
  {
   "cell_type": "markdown",
   "metadata": {},
   "source": [
    "Sabiendo como queda, hagásmoslo:"
   ]
  },
  {
   "cell_type": "code",
   "execution_count": null,
   "metadata": {},
   "outputs": [],
   "source": [
    "idhColT2.replace(inapropiados,value=[None]*len(inapropiados),inplace=True)"
   ]
  },
  {
   "cell_type": "markdown",
   "metadata": {},
   "source": [
    "____\n",
    "\n",
    "* [Ir a inicio](#beginning)\n",
    "* [Ir a Parte B: Formateo](https://rawgit.com/MAGALLANESJoseManuel/BITSS_ToolsWorkshop/master/Sesiones/Sesion3_P_PreProcesamento2.html)\n",
    "* [Menú Principal](https://magallanesjosemanuel.github.io/BITSS_ToolsWorkshop/)"
   ]
  },
  {
   "cell_type": "markdown",
   "metadata": {},
   "source": [
    "_____\n",
    "\n",
    "**AUSPICIO**: \n",
    "\n",
    "El desarrollo de estos contenidos ha sido posible gracias al grant del Berkeley Initiative for Transparency in the Social Sciences (BITSS) at the Center for Effective Global Action (CEGA) at the University of California, Berkeley\n",
    "\n",
    "\n",
    "<center>\n",
    "<img src=\"https://github.com/MAGALLANESJoseManuel/BITSS_ToolsWorkshop/raw/master/LogoBitss.jpg\" style=\"width: 300px;\"/>\n",
    "</center>\n",
    "\n",
    "**RECONOCIMIENTO**\n",
    "\n",
    "<!--\n",
    "EL Dr. Magallanes agradece a la Pontificia Universidad Católica del Perú, por su apoyo en la elaboración de este trabajo.\n",
    "\n",
    "<center>\n",
    "<img src=\"https://github.com/MAGALLANESJoseManuel/BITSS_ToolsWorkshop/raw/master/LogoPUCP.jpg\" style=\"width: 200px;\"/>\n",
    "</center>\n",
    "-->\n",
    "\n",
    "El autor reconoce el apoyo que el eScience Institute de la Universidad de Washington le ha brindado desde el 2015 para desarrollar su investigación en Ciencia de Datos.\n",
    "\n",
    "<center>\n",
    "<img src=\"https://github.com/MAGALLANESJoseManuel/BITSS_ToolsWorkshop/raw/master/LogoES.png\" style=\"width: 300px;\"/>\n",
    "</center>\n",
    "\n",
    "<br>\n",
    "<br>"
   ]
  }
 ],
 "metadata": {
  "anaconda-cloud": {},
  "kernelspec": {
   "display_name": "Python 3",
   "language": "python",
   "name": "python3"
  },
  "language_info": {
   "codemirror_mode": {
    "name": "ipython",
    "version": 3
   },
   "file_extension": ".py",
   "mimetype": "text/x-python",
   "name": "python",
   "nbconvert_exporter": "python",
   "pygments_lexer": "ipython3",
   "version": "3.6.5"
  }
 },
 "nbformat": 4,
 "nbformat_minor": 1
}
