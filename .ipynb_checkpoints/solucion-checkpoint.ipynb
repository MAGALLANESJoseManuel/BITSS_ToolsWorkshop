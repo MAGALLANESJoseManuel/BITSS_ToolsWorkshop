{
 "cells": [
  {
   "cell_type": "markdown",
   "metadata": {},
   "source": [
    "## Solución en Python\n",
    "\n",
    "Cree una data frame con los siguientes listas. El nombre de la data frame debe ser *artistas* "
   ]
  },
  {
   "cell_type": "code",
   "execution_count": null,
   "metadata": {},
   "outputs": [],
   "source": [
    "nombre=[\"George Harrison\", \"Mick Jagger\", \"Tom Jones\", \"Davy Jones\",\n",
    "        \"John Lennon\", \"Paul McCartney\", \"Jimmy Page\", \"Joe Perry\", \"Elvis Presley\"]\n",
    "\n",
    "instrumento=[\"Guitarra\", \"Voz\", \"Voz\", \"Voz\", \"Guitarra\", \"Bajo\",\n",
    "             \"Guitarra\", \"Guitarra\", \"Voz\"]\n",
    "edad = [58, 74, 78, 66, 40, 75, 74, 67, 62]\n",
    "vivo = [0,1,1,0,0,1,1,1,0]\n",
    "\n",
    "####\n",
    "\n",
    "import pandas as pd\n",
    "columns=['nombre','instrumento','edad','vivo']\n",
    "data={colname:lista for colname,lista in zip(columns,[nombre,instrumento,edad,vivo])}\n",
    "artistas=pd.DataFrame(data)\n",
    "artistas"
   ]
  },
  {
   "cell_type": "markdown",
   "metadata": {},
   "source": [
    "Muestre los primeros casos de *artistas* "
   ]
  },
  {
   "cell_type": "code",
   "execution_count": null,
   "metadata": {},
   "outputs": [],
   "source": [
    "artistas.head()"
   ]
  },
  {
   "cell_type": "markdown",
   "metadata": {},
   "source": [
    "Genere el código para cambiar la edad de Elvis Presley por 42 "
   ]
  },
  {
   "cell_type": "code",
   "execution_count": null,
   "metadata": {},
   "outputs": [],
   "source": [
    "artistas.loc[artistas.nombre=='Elvis Presley','edad']=42"
   ]
  },
  {
   "cell_type": "code",
   "execution_count": null,
   "metadata": {},
   "outputs": [],
   "source": [
    "artistas.loc[artistas.nombre.str.startswith('Elv'),'edad']=42"
   ]
  },
  {
   "cell_type": "code",
   "execution_count": null,
   "metadata": {
    "collapsed": true
   },
   "outputs": [],
   "source": [
    "v=artistas.loc[artistas.nombre.str.startswith('Elv')]\n",
    "if len(v)==1:\n",
    "    artistas.loc[artistas.nombre.str.startswith('Elv'),'edad']=42"
   ]
  },
  {
   "cell_type": "markdown",
   "metadata": {},
   "source": [
    "Genere el código para mostrar la información completa del artista que toca el bajo"
   ]
  },
  {
   "cell_type": "code",
   "execution_count": null,
   "metadata": {},
   "outputs": [],
   "source": [
    "artistas[artistas.instrumento=='Bajo']"
   ]
  },
  {
   "cell_type": "code",
   "execution_count": null,
   "metadata": {},
   "outputs": [],
   "source": [
    "artistas[artistas.instrumento.isin(['bajo','Bajo','BAJO'])]"
   ]
  },
  {
   "cell_type": "code",
   "execution_count": null,
   "metadata": {},
   "outputs": [],
   "source": [
    "artistas[artistas.instrumento.str.lower().isin(['bajo'])]\n",
    "# artistas[artistas.instrumento.str.lower()=='bajo']"
   ]
  },
  {
   "cell_type": "markdown",
   "metadata": {},
   "source": [
    "Genere el código para mostrar el instrumento de los artistas que superan los 60 años y se encuentran vivos"
   ]
  },
  {
   "cell_type": "code",
   "execution_count": null,
   "metadata": {},
   "outputs": [],
   "source": [
    "pd.unique(artistas[(artistas.edad>60) & (artistas.vivo)].instrumento)"
   ]
  },
  {
   "cell_type": "markdown",
   "metadata": {},
   "source": [
    "Genere un objeto que contenga la información de *artistas* ordenada de menor a mayor por edad. El objeto debe llamarse *artistas_ordenada* "
   ]
  },
  {
   "cell_type": "code",
   "execution_count": null,
   "metadata": {},
   "outputs": [],
   "source": [
    "toSort=[\"edad\"]\n",
    "Order=[True]\n",
    "artistas.sort_values(by=toSort,ascending=Order)"
   ]
  },
  {
   "cell_type": "markdown",
   "metadata": {},
   "source": [
    "Cree una data frame con los siguientes listas. El nombre de la data frame debe ser \"bandas\""
   ]
  },
  {
   "cell_type": "code",
   "execution_count": null,
   "metadata": {},
   "outputs": [],
   "source": [
    "nombre=[\"George Harrison\", \"Mick Jagger\", \"John Lennon\", \"Paul McCartney\", \n",
    "         \"Jimmy Page\", \"Joe Perry\"]\n",
    "banda = [\"The Beatles\", \"The Rolling Stones\", \"The Beatles\", \"The Beatles\", \n",
    "          \"Led Zeppelin\", \"Aerosmith\"]\n",
    "grammy=[28, 4, 28, 28, 5, 4]\n",
    "\n",
    "####\n",
    "\n",
    "columns=['nombre','banda','grammy']\n",
    "data2={colname:lista for colname,lista in zip(columns,[nombre,banda,grammy])}\n",
    "bandas=pd.DataFrame(data2)\n",
    "bandas"
   ]
  },
  {
   "cell_type": "markdown",
   "metadata": {},
   "source": [
    "Junte la información de *artistas* y *bandas* utilizando el comando merge. La data frame a generar debe llamarse artistas_total "
   ]
  },
  {
   "cell_type": "code",
   "execution_count": null,
   "metadata": {},
   "outputs": [],
   "source": [
    "artistas_total=pd.merge(artistas,bandas,how='left')"
   ]
  },
  {
   "cell_type": "markdown",
   "metadata": {},
   "source": [
    "Genere el código para consultar el número de filas (casos) de la data frame *artistas_total* "
   ]
  },
  {
   "cell_type": "code",
   "execution_count": null,
   "metadata": {},
   "outputs": [],
   "source": [
    "artistas_total.shape[0]"
   ]
  },
  {
   "cell_type": "markdown",
   "metadata": {},
   "source": [
    "Genere el código para mostrar el nombre de la banda del artista con mayor edad "
   ]
  },
  {
   "cell_type": "code",
   "execution_count": null,
   "metadata": {},
   "outputs": [],
   "source": [
    "artistas_total[artistas_total.edad==max(artistas_total.edad)].nombre"
   ]
  },
  {
   "cell_type": "markdown",
   "metadata": {},
   "source": [
    "Genere el código para ordenar el número de grammys ganados de mayor a menor"
   ]
  },
  {
   "cell_type": "code",
   "execution_count": null,
   "metadata": {},
   "outputs": [],
   "source": [
    "toSort=[\"grammy\"]\n",
    "Order=[False]\n",
    "artistas_total.sort_values(by=toSort,ascending=Order)"
   ]
  },
  {
   "cell_type": "markdown",
   "metadata": {},
   "source": [
    "Muestre los nombres de los artistas con menos de 5 grammys ganados "
   ]
  },
  {
   "cell_type": "code",
   "execution_count": null,
   "metadata": {},
   "outputs": [],
   "source": [
    "artistas_total[(~pd.isnull(artistas_total.grammy)) & (artistas_total.grammy<5)]"
   ]
  },
  {
   "cell_type": "markdown",
   "metadata": {},
   "source": [
    "Muestre el instrumento de la edad máxima de los artistas de The Beatles "
   ]
  },
  {
   "cell_type": "code",
   "execution_count": null,
   "metadata": {},
   "outputs": [],
   "source": [
    "sub=artistas_total[artistas_total.banda=='The Beatles']\n",
    "sub[sub.edad==max(sub.edad)].instrumento"
   ]
  }
 ],
 "metadata": {
  "kernelspec": {
   "display_name": "Python 3",
   "language": "python",
   "name": "python3"
  },
  "language_info": {
   "codemirror_mode": {
    "name": "ipython",
    "version": 3
   },
   "file_extension": ".py",
   "mimetype": "text/x-python",
   "name": "python",
   "nbconvert_exporter": "python",
   "pygments_lexer": "ipython3",
   "version": "3.6.1"
  }
 },
 "nbformat": 4,
 "nbformat_minor": 2
}
